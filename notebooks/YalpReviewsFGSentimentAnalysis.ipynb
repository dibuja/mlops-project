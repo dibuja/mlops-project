{
 "cells": [
  {
   "cell_type": "markdown",
   "id": "310d7cd0",
   "metadata": {},
   "source": [
    "# Fine-grained sentiment analysis of Yelp restaurant reviews with pytorch"
   ]
  },
  {
   "cell_type": "markdown",
   "id": "6547f301",
   "metadata": {},
   "source": [
    "The dataset used in this project has been provided by yelp (https://www.yelp.com/dataset) and consists of close to 7 million reviews on different types of businesses in several different metropolitan areas in USA and Canada. The dataset is split into 5 different files: business information, reviews, tips, users and check-in data. The business information consists of information about the different businesses such as name, postal code, location, rating, business category and number of reviews. The review data is where we find all the reviews and ratings for all the different businesses as well as unique user ids. We are aware that not every review might be insightful and we will make a filtering effort at a later stage. The user file consists of information about each of the individual users such as the average rating they give and reactions they have received both on their own reviews and given to others. The check-in data provides timestamps for check-ins made at each individual business while the tip data consists of data similar to the reviews but in a condensed way. Both are not being used in the course of this project.\n",
    "\n",
    "\n",
    "**NOTE: At several points of this notebook we pickle the results to save computation time. These intermediary results are delivered with the hand-in of this notebook, so one can simply unpickle the results to proceed. Pandas version used to create the pkl files is 1.4.1**"
   ]
  },
  {
   "cell_type": "markdown",
   "id": "b96a4854",
   "metadata": {},
   "source": [
    "## Imports and settings"
   ]
  },
  {
   "cell_type": "code",
   "execution_count": 2,
   "id": "0294b14d",
   "metadata": {},
   "outputs": [],
   "source": [
    "from sklearn.decomposition import LatentDirichletAllocation\n",
    "import pandas as pd\n",
    "import numpy as np\n",
    "import json\n",
    "import seaborn as sns\n",
    "import matplotlib.pyplot as plt\n",
    "import matplotlib\n",
    "%matplotlib inline\n",
    "from stopwords import get_stopwords\n",
    "from sklearn.metrics import f1_score, accuracy_score\n",
    "from sklearn.feature_extraction import _stop_words\n",
    "import string\n",
    "from nltk.stem import WordNetLemmatizer\n",
    "lemmatizer = WordNetLemmatizer()\n",
    "Stop_Words= _stop_words.ENGLISH_STOP_WORDS\n",
    "from cleantext import clean \n",
    "import seaborn as sn\n",
    "from lime.lime_text import LimeTextExplainer\n",
    "from wordcloud import WordCloud\n",
    "import datetime as dt\n",
    "from time import time\n",
    "import transformers\n",
    "from transformers import BertModel, BertTokenizer, AdamW,get_linear_schedule_with_warmup\n",
    "import nltk\n",
    "from sklearn.model_selection import train_test_split\n",
    "\n",
    "from collections import defaultdict\n",
    "\n",
    "from torch import nn, optim\n",
    "import torch\n",
    "from torch.utils.data import Dataset, DataLoader\n",
    "import torch.nn.functional as F\n",
    "\n",
    "import warnings\n",
    "warnings.filterwarnings(\"ignore\", category=FutureWarning)"
   ]
  },
  {
   "cell_type": "code",
   "execution_count": 2,
   "id": "45245afc",
   "metadata": {},
   "outputs": [],
   "source": [
    "#download these packages once, if not already done\n",
    "#nltk.download('vader_lexicon')\n",
    "#nltk.download('wordnet')\n",
    "#nltk.download('punkt')\n",
    "#nltk.download('omw-1.4')"
   ]
  },
  {
   "cell_type": "code",
   "execution_count": 3,
   "id": "e015775c",
   "metadata": {},
   "outputs": [],
   "source": [
    "FIG_SIZE = (8, 5)\n",
    "sns.set_style(\"whitegrid\")\n",
    "sns.set(rc = {'figure.figsize': FIG_SIZE})\n",
    "matplotlib.rcParams['figure.figsize'] = FIG_SIZE\n",
    "plt.rcParams['figure.figsize'] = FIG_SIZE"
   ]
  },
  {
   "cell_type": "markdown",
   "id": "3024db36",
   "metadata": {
    "tags": []
   },
   "source": [
    "## Importing data"
   ]
  },
  {
   "cell_type": "code",
   "execution_count": 35,
   "id": "9449c129",
   "metadata": {},
   "outputs": [
    {
     "ename": "JSONDecodeError",
     "evalue": "Unterminated string starting at: line 1 column 371 (char 370)",
     "output_type": "error",
     "traceback": [
      "\u001b[0;31m---------------------------------------------------------------------------\u001b[0m",
      "\u001b[0;31mJSONDecodeError\u001b[0m                           Traceback (most recent call last)",
      "\u001b[1;32m/Users/borisllonaalonso/Documents/DTU/ML Ops/Project/mlops-project/notebooks/Final_YelpAnalysis.ipynb Cell 8\u001b[0m in \u001b[0;36m<cell line: 4>\u001b[0;34m()\u001b[0m\n\u001b[1;32m      <a href='vscode-notebook-cell:/Users/borisllonaalonso/Documents/DTU/ML%20Ops/Project/mlops-project/notebooks/Final_YelpAnalysis.ipynb#Y525sZmlsZQ%3D%3D?line=2'>3</a>\u001b[0m data \u001b[39m=\u001b[39m []\n\u001b[1;32m      <a href='vscode-notebook-cell:/Users/borisllonaalonso/Documents/DTU/ML%20Ops/Project/mlops-project/notebooks/Final_YelpAnalysis.ipynb#Y525sZmlsZQ%3D%3D?line=3'>4</a>\u001b[0m \u001b[39mfor\u001b[39;00m line \u001b[39min\u001b[39;00m data_file:\n\u001b[0;32m----> <a href='vscode-notebook-cell:/Users/borisllonaalonso/Documents/DTU/ML%20Ops/Project/mlops-project/notebooks/Final_YelpAnalysis.ipynb#Y525sZmlsZQ%3D%3D?line=4'>5</a>\u001b[0m     data\u001b[39m.\u001b[39mappend(json\u001b[39m.\u001b[39;49mloads(line))\n\u001b[1;32m      <a href='vscode-notebook-cell:/Users/borisllonaalonso/Documents/DTU/ML%20Ops/Project/mlops-project/notebooks/Final_YelpAnalysis.ipynb#Y525sZmlsZQ%3D%3D?line=5'>6</a>\u001b[0m business_df \u001b[39m=\u001b[39m pd\u001b[39m.\u001b[39mDataFrame(data)\n\u001b[1;32m      <a href='vscode-notebook-cell:/Users/borisllonaalonso/Documents/DTU/ML%20Ops/Project/mlops-project/notebooks/Final_YelpAnalysis.ipynb#Y525sZmlsZQ%3D%3D?line=6'>7</a>\u001b[0m data_file\u001b[39m.\u001b[39mclose()\n",
      "File \u001b[0;32m~/opt/anaconda3/lib/python3.9/json/__init__.py:346\u001b[0m, in \u001b[0;36mloads\u001b[0;34m(s, cls, object_hook, parse_float, parse_int, parse_constant, object_pairs_hook, **kw)\u001b[0m\n\u001b[1;32m    341\u001b[0m     s \u001b[39m=\u001b[39m s\u001b[39m.\u001b[39mdecode(detect_encoding(s), \u001b[39m'\u001b[39m\u001b[39msurrogatepass\u001b[39m\u001b[39m'\u001b[39m)\n\u001b[1;32m    343\u001b[0m \u001b[39mif\u001b[39;00m (\u001b[39mcls\u001b[39m \u001b[39mis\u001b[39;00m \u001b[39mNone\u001b[39;00m \u001b[39mand\u001b[39;00m object_hook \u001b[39mis\u001b[39;00m \u001b[39mNone\u001b[39;00m \u001b[39mand\u001b[39;00m\n\u001b[1;32m    344\u001b[0m         parse_int \u001b[39mis\u001b[39;00m \u001b[39mNone\u001b[39;00m \u001b[39mand\u001b[39;00m parse_float \u001b[39mis\u001b[39;00m \u001b[39mNone\u001b[39;00m \u001b[39mand\u001b[39;00m\n\u001b[1;32m    345\u001b[0m         parse_constant \u001b[39mis\u001b[39;00m \u001b[39mNone\u001b[39;00m \u001b[39mand\u001b[39;00m object_pairs_hook \u001b[39mis\u001b[39;00m \u001b[39mNone\u001b[39;00m \u001b[39mand\u001b[39;00m \u001b[39mnot\u001b[39;00m kw):\n\u001b[0;32m--> 346\u001b[0m     \u001b[39mreturn\u001b[39;00m _default_decoder\u001b[39m.\u001b[39;49mdecode(s)\n\u001b[1;32m    347\u001b[0m \u001b[39mif\u001b[39;00m \u001b[39mcls\u001b[39m \u001b[39mis\u001b[39;00m \u001b[39mNone\u001b[39;00m:\n\u001b[1;32m    348\u001b[0m     \u001b[39mcls\u001b[39m \u001b[39m=\u001b[39m JSONDecoder\n",
      "File \u001b[0;32m~/opt/anaconda3/lib/python3.9/json/decoder.py:337\u001b[0m, in \u001b[0;36mJSONDecoder.decode\u001b[0;34m(self, s, _w)\u001b[0m\n\u001b[1;32m    332\u001b[0m \u001b[39mdef\u001b[39;00m \u001b[39mdecode\u001b[39m(\u001b[39mself\u001b[39m, s, _w\u001b[39m=\u001b[39mWHITESPACE\u001b[39m.\u001b[39mmatch):\n\u001b[1;32m    333\u001b[0m     \u001b[39m\"\"\"Return the Python representation of ``s`` (a ``str`` instance\u001b[39;00m\n\u001b[1;32m    334\u001b[0m \u001b[39m    containing a JSON document).\u001b[39;00m\n\u001b[1;32m    335\u001b[0m \n\u001b[1;32m    336\u001b[0m \u001b[39m    \"\"\"\u001b[39;00m\n\u001b[0;32m--> 337\u001b[0m     obj, end \u001b[39m=\u001b[39m \u001b[39mself\u001b[39;49m\u001b[39m.\u001b[39;49mraw_decode(s, idx\u001b[39m=\u001b[39;49m_w(s, \u001b[39m0\u001b[39;49m)\u001b[39m.\u001b[39;49mend())\n\u001b[1;32m    338\u001b[0m     end \u001b[39m=\u001b[39m _w(s, end)\u001b[39m.\u001b[39mend()\n\u001b[1;32m    339\u001b[0m     \u001b[39mif\u001b[39;00m end \u001b[39m!=\u001b[39m \u001b[39mlen\u001b[39m(s):\n",
      "File \u001b[0;32m~/opt/anaconda3/lib/python3.9/json/decoder.py:353\u001b[0m, in \u001b[0;36mJSONDecoder.raw_decode\u001b[0;34m(self, s, idx)\u001b[0m\n\u001b[1;32m    344\u001b[0m \u001b[39m\"\"\"Decode a JSON document from ``s`` (a ``str`` beginning with\u001b[39;00m\n\u001b[1;32m    345\u001b[0m \u001b[39ma JSON document) and return a 2-tuple of the Python\u001b[39;00m\n\u001b[1;32m    346\u001b[0m \u001b[39mrepresentation and the index in ``s`` where the document ended.\u001b[39;00m\n\u001b[0;32m   (...)\u001b[0m\n\u001b[1;32m    350\u001b[0m \n\u001b[1;32m    351\u001b[0m \u001b[39m\"\"\"\u001b[39;00m\n\u001b[1;32m    352\u001b[0m \u001b[39mtry\u001b[39;00m:\n\u001b[0;32m--> 353\u001b[0m     obj, end \u001b[39m=\u001b[39m \u001b[39mself\u001b[39;49m\u001b[39m.\u001b[39;49mscan_once(s, idx)\n\u001b[1;32m    354\u001b[0m \u001b[39mexcept\u001b[39;00m \u001b[39mStopIteration\u001b[39;00m \u001b[39mas\u001b[39;00m err:\n\u001b[1;32m    355\u001b[0m     \u001b[39mraise\u001b[39;00m JSONDecodeError(\u001b[39m\"\u001b[39m\u001b[39mExpecting value\u001b[39m\u001b[39m\"\u001b[39m, s, err\u001b[39m.\u001b[39mvalue) \u001b[39mfrom\u001b[39;00m \u001b[39mNone\u001b[39m\n",
      "\u001b[0;31mJSONDecodeError\u001b[0m: Unterminated string starting at: line 1 column 371 (char 370)"
     ]
    }
   ],
   "source": [
    "# Importing the businesses data\n",
    "data_file = open(\"../src/data/yelp_dataset/yelp_academic_dataset_business.json\", encoding=\"utf8\")\n",
    "data = []\n",
    "for line in data_file:\n",
    "    data.append(json.loads(line))\n",
    "business_df = pd.DataFrame(data)\n",
    "data_file.close()"
   ]
  },
  {
   "cell_type": "code",
   "execution_count": 5,
   "id": "b986879d",
   "metadata": {},
   "outputs": [
    {
     "data": {
      "text/html": [
       "<div>\n",
       "<style scoped>\n",
       "    .dataframe tbody tr th:only-of-type {\n",
       "        vertical-align: middle;\n",
       "    }\n",
       "\n",
       "    .dataframe tbody tr th {\n",
       "        vertical-align: top;\n",
       "    }\n",
       "\n",
       "    .dataframe thead th {\n",
       "        text-align: right;\n",
       "    }\n",
       "</style>\n",
       "<table border=\"1\" class=\"dataframe\">\n",
       "  <thead>\n",
       "    <tr style=\"text-align: right;\">\n",
       "      <th></th>\n",
       "      <th>business_id</th>\n",
       "      <th>name</th>\n",
       "      <th>address</th>\n",
       "      <th>city</th>\n",
       "      <th>state</th>\n",
       "      <th>postal_code</th>\n",
       "      <th>latitude</th>\n",
       "      <th>longitude</th>\n",
       "      <th>stars</th>\n",
       "      <th>review_count</th>\n",
       "      <th>is_open</th>\n",
       "      <th>attributes</th>\n",
       "      <th>categories</th>\n",
       "      <th>hours</th>\n",
       "    </tr>\n",
       "  </thead>\n",
       "  <tbody>\n",
       "    <tr>\n",
       "      <th>0</th>\n",
       "      <td>Pns2l4eNsfO8kk83dixA6A</td>\n",
       "      <td>Abby Rappoport, LAC, CMQ</td>\n",
       "      <td>1616 Chapala St, Ste 2</td>\n",
       "      <td>Santa Barbara</td>\n",
       "      <td>CA</td>\n",
       "      <td>93101</td>\n",
       "      <td>34.426679</td>\n",
       "      <td>-119.711197</td>\n",
       "      <td>5.0</td>\n",
       "      <td>7</td>\n",
       "      <td>0</td>\n",
       "      <td>{'ByAppointmentOnly': 'True'}</td>\n",
       "      <td>Doctors, Traditional Chinese Medicine, Naturop...</td>\n",
       "      <td>None</td>\n",
       "    </tr>\n",
       "    <tr>\n",
       "      <th>1</th>\n",
       "      <td>mpf3x-BjTdTEA3yCZrAYPw</td>\n",
       "      <td>The UPS Store</td>\n",
       "      <td>87 Grasso Plaza Shopping Center</td>\n",
       "      <td>Affton</td>\n",
       "      <td>MO</td>\n",
       "      <td>63123</td>\n",
       "      <td>38.551126</td>\n",
       "      <td>-90.335695</td>\n",
       "      <td>3.0</td>\n",
       "      <td>15</td>\n",
       "      <td>1</td>\n",
       "      <td>{'BusinessAcceptsCreditCards': 'True'}</td>\n",
       "      <td>Shipping Centers, Local Services, Notaries, Ma...</td>\n",
       "      <td>{'Monday': '0:0-0:0', 'Tuesday': '8:0-18:30', ...</td>\n",
       "    </tr>\n",
       "    <tr>\n",
       "      <th>2</th>\n",
       "      <td>tUFrWirKiKi_TAnsVWINQQ</td>\n",
       "      <td>Target</td>\n",
       "      <td>5255 E Broadway Blvd</td>\n",
       "      <td>Tucson</td>\n",
       "      <td>AZ</td>\n",
       "      <td>85711</td>\n",
       "      <td>32.223236</td>\n",
       "      <td>-110.880452</td>\n",
       "      <td>3.5</td>\n",
       "      <td>22</td>\n",
       "      <td>0</td>\n",
       "      <td>{'BikeParking': 'True', 'BusinessAcceptsCredit...</td>\n",
       "      <td>Department Stores, Shopping, Fashion, Home &amp; G...</td>\n",
       "      <td>{'Monday': '8:0-22:0', 'Tuesday': '8:0-22:0', ...</td>\n",
       "    </tr>\n",
       "    <tr>\n",
       "      <th>3</th>\n",
       "      <td>MTSW4McQd7CbVtyjqoe9mw</td>\n",
       "      <td>St Honore Pastries</td>\n",
       "      <td>935 Race St</td>\n",
       "      <td>Philadelphia</td>\n",
       "      <td>PA</td>\n",
       "      <td>19107</td>\n",
       "      <td>39.955505</td>\n",
       "      <td>-75.155564</td>\n",
       "      <td>4.0</td>\n",
       "      <td>80</td>\n",
       "      <td>1</td>\n",
       "      <td>{'RestaurantsDelivery': 'False', 'OutdoorSeati...</td>\n",
       "      <td>Restaurants, Food, Bubble Tea, Coffee &amp; Tea, B...</td>\n",
       "      <td>{'Monday': '7:0-20:0', 'Tuesday': '7:0-20:0', ...</td>\n",
       "    </tr>\n",
       "    <tr>\n",
       "      <th>4</th>\n",
       "      <td>mWMc6_wTdE0EUBKIGXDVfA</td>\n",
       "      <td>Perkiomen Valley Brewery</td>\n",
       "      <td>101 Walnut St</td>\n",
       "      <td>Green Lane</td>\n",
       "      <td>PA</td>\n",
       "      <td>18054</td>\n",
       "      <td>40.338183</td>\n",
       "      <td>-75.471659</td>\n",
       "      <td>4.5</td>\n",
       "      <td>13</td>\n",
       "      <td>1</td>\n",
       "      <td>{'BusinessAcceptsCreditCards': 'True', 'Wheelc...</td>\n",
       "      <td>Brewpubs, Breweries, Food</td>\n",
       "      <td>{'Wednesday': '14:0-22:0', 'Thursday': '16:0-2...</td>\n",
       "    </tr>\n",
       "  </tbody>\n",
       "</table>\n",
       "</div>"
      ],
      "text/plain": [
       "              business_id                      name  \\\n",
       "0  Pns2l4eNsfO8kk83dixA6A  Abby Rappoport, LAC, CMQ   \n",
       "1  mpf3x-BjTdTEA3yCZrAYPw             The UPS Store   \n",
       "2  tUFrWirKiKi_TAnsVWINQQ                    Target   \n",
       "3  MTSW4McQd7CbVtyjqoe9mw        St Honore Pastries   \n",
       "4  mWMc6_wTdE0EUBKIGXDVfA  Perkiomen Valley Brewery   \n",
       "\n",
       "                           address           city state postal_code  \\\n",
       "0           1616 Chapala St, Ste 2  Santa Barbara    CA       93101   \n",
       "1  87 Grasso Plaza Shopping Center         Affton    MO       63123   \n",
       "2             5255 E Broadway Blvd         Tucson    AZ       85711   \n",
       "3                      935 Race St   Philadelphia    PA       19107   \n",
       "4                    101 Walnut St     Green Lane    PA       18054   \n",
       "\n",
       "    latitude   longitude  stars  review_count  is_open  \\\n",
       "0  34.426679 -119.711197    5.0             7        0   \n",
       "1  38.551126  -90.335695    3.0            15        1   \n",
       "2  32.223236 -110.880452    3.5            22        0   \n",
       "3  39.955505  -75.155564    4.0            80        1   \n",
       "4  40.338183  -75.471659    4.5            13        1   \n",
       "\n",
       "                                          attributes  \\\n",
       "0                      {'ByAppointmentOnly': 'True'}   \n",
       "1             {'BusinessAcceptsCreditCards': 'True'}   \n",
       "2  {'BikeParking': 'True', 'BusinessAcceptsCredit...   \n",
       "3  {'RestaurantsDelivery': 'False', 'OutdoorSeati...   \n",
       "4  {'BusinessAcceptsCreditCards': 'True', 'Wheelc...   \n",
       "\n",
       "                                          categories  \\\n",
       "0  Doctors, Traditional Chinese Medicine, Naturop...   \n",
       "1  Shipping Centers, Local Services, Notaries, Ma...   \n",
       "2  Department Stores, Shopping, Fashion, Home & G...   \n",
       "3  Restaurants, Food, Bubble Tea, Coffee & Tea, B...   \n",
       "4                          Brewpubs, Breweries, Food   \n",
       "\n",
       "                                               hours  \n",
       "0                                               None  \n",
       "1  {'Monday': '0:0-0:0', 'Tuesday': '8:0-18:30', ...  \n",
       "2  {'Monday': '8:0-22:0', 'Tuesday': '8:0-22:0', ...  \n",
       "3  {'Monday': '7:0-20:0', 'Tuesday': '7:0-20:0', ...  \n",
       "4  {'Wednesday': '14:0-22:0', 'Thursday': '16:0-2...  "
      ]
     },
     "execution_count": 5,
     "metadata": {},
     "output_type": "execute_result"
    }
   ],
   "source": [
    "business_df.head()"
   ]
  },
  {
   "cell_type": "code",
   "execution_count": 6,
   "id": "a9a82083",
   "metadata": {},
   "outputs": [],
   "source": [
    "# Importing the reviews data\n",
    "# Due to the large size, we restrict the analysis to the first 5Mio. reviews\n",
    "data_file = open(\"yelp_dataset/yelp_academic_dataset_review.json\", encoding=\"utf8\")\n",
    "data = []\n",
    "N = 5000000 #read 5Mio reviews\n",
    "n = 0\n",
    "\n",
    "for line in data_file:\n",
    "    data.append(json.loads(line))\n",
    "    n += 1\n",
    "    if n>=N:\n",
    "        break;\n",
    "        \n",
    "reviews_df = pd.DataFrame(data)\n",
    "data_file.close()"
   ]
  },
  {
   "cell_type": "code",
   "execution_count": 7,
   "id": "48006e26",
   "metadata": {},
   "outputs": [
    {
     "data": {
      "text/html": [
       "<div>\n",
       "<style scoped>\n",
       "    .dataframe tbody tr th:only-of-type {\n",
       "        vertical-align: middle;\n",
       "    }\n",
       "\n",
       "    .dataframe tbody tr th {\n",
       "        vertical-align: top;\n",
       "    }\n",
       "\n",
       "    .dataframe thead th {\n",
       "        text-align: right;\n",
       "    }\n",
       "</style>\n",
       "<table border=\"1\" class=\"dataframe\">\n",
       "  <thead>\n",
       "    <tr style=\"text-align: right;\">\n",
       "      <th></th>\n",
       "      <th>review_id</th>\n",
       "      <th>user_id</th>\n",
       "      <th>business_id</th>\n",
       "      <th>stars</th>\n",
       "      <th>useful</th>\n",
       "      <th>funny</th>\n",
       "      <th>cool</th>\n",
       "      <th>text</th>\n",
       "      <th>date</th>\n",
       "    </tr>\n",
       "  </thead>\n",
       "  <tbody>\n",
       "    <tr>\n",
       "      <th>0</th>\n",
       "      <td>KU_O5udG6zpxOg-VcAEodg</td>\n",
       "      <td>mh_-eMZ6K5RLWhZyISBhwA</td>\n",
       "      <td>XQfwVwDr-v0ZS3_CbbE5Xw</td>\n",
       "      <td>3.0</td>\n",
       "      <td>0</td>\n",
       "      <td>0</td>\n",
       "      <td>0</td>\n",
       "      <td>If you decide to eat here, just be aware it is...</td>\n",
       "      <td>2018-07-07 22:09:11</td>\n",
       "    </tr>\n",
       "    <tr>\n",
       "      <th>1</th>\n",
       "      <td>BiTunyQ73aT9WBnpR9DZGw</td>\n",
       "      <td>OyoGAe7OKpv6SyGZT5g77Q</td>\n",
       "      <td>7ATYjTIgM3jUlt4UM3IypQ</td>\n",
       "      <td>5.0</td>\n",
       "      <td>1</td>\n",
       "      <td>0</td>\n",
       "      <td>1</td>\n",
       "      <td>I've taken a lot of spin classes over the year...</td>\n",
       "      <td>2012-01-03 15:28:18</td>\n",
       "    </tr>\n",
       "    <tr>\n",
       "      <th>2</th>\n",
       "      <td>saUsX_uimxRlCVr67Z4Jig</td>\n",
       "      <td>8g_iMtfSiwikVnbP2etR0A</td>\n",
       "      <td>YjUWPpI6HXG530lwP-fb2A</td>\n",
       "      <td>3.0</td>\n",
       "      <td>0</td>\n",
       "      <td>0</td>\n",
       "      <td>0</td>\n",
       "      <td>Family diner. Had the buffet. Eclectic assortm...</td>\n",
       "      <td>2014-02-05 20:30:30</td>\n",
       "    </tr>\n",
       "    <tr>\n",
       "      <th>3</th>\n",
       "      <td>AqPFMleE6RsU23_auESxiA</td>\n",
       "      <td>_7bHUi9Uuf5__HHc_Q8guQ</td>\n",
       "      <td>kxX2SOes4o-D3ZQBkiMRfA</td>\n",
       "      <td>5.0</td>\n",
       "      <td>1</td>\n",
       "      <td>0</td>\n",
       "      <td>1</td>\n",
       "      <td>Wow!  Yummy, different,  delicious.   Our favo...</td>\n",
       "      <td>2015-01-04 00:01:03</td>\n",
       "    </tr>\n",
       "    <tr>\n",
       "      <th>4</th>\n",
       "      <td>Sx8TMOWLNuJBWer-0pcmoA</td>\n",
       "      <td>bcjbaE6dDog4jkNY91ncLQ</td>\n",
       "      <td>e4Vwtrqf-wpJfwesgvdgxQ</td>\n",
       "      <td>4.0</td>\n",
       "      <td>1</td>\n",
       "      <td>0</td>\n",
       "      <td>1</td>\n",
       "      <td>Cute interior and owner (?) gave us tour of up...</td>\n",
       "      <td>2017-01-14 20:54:15</td>\n",
       "    </tr>\n",
       "  </tbody>\n",
       "</table>\n",
       "</div>"
      ],
      "text/plain": [
       "                review_id                 user_id             business_id  \\\n",
       "0  KU_O5udG6zpxOg-VcAEodg  mh_-eMZ6K5RLWhZyISBhwA  XQfwVwDr-v0ZS3_CbbE5Xw   \n",
       "1  BiTunyQ73aT9WBnpR9DZGw  OyoGAe7OKpv6SyGZT5g77Q  7ATYjTIgM3jUlt4UM3IypQ   \n",
       "2  saUsX_uimxRlCVr67Z4Jig  8g_iMtfSiwikVnbP2etR0A  YjUWPpI6HXG530lwP-fb2A   \n",
       "3  AqPFMleE6RsU23_auESxiA  _7bHUi9Uuf5__HHc_Q8guQ  kxX2SOes4o-D3ZQBkiMRfA   \n",
       "4  Sx8TMOWLNuJBWer-0pcmoA  bcjbaE6dDog4jkNY91ncLQ  e4Vwtrqf-wpJfwesgvdgxQ   \n",
       "\n",
       "   stars  useful  funny  cool  \\\n",
       "0    3.0       0      0     0   \n",
       "1    5.0       1      0     1   \n",
       "2    3.0       0      0     0   \n",
       "3    5.0       1      0     1   \n",
       "4    4.0       1      0     1   \n",
       "\n",
       "                                                text                 date  \n",
       "0  If you decide to eat here, just be aware it is...  2018-07-07 22:09:11  \n",
       "1  I've taken a lot of spin classes over the year...  2012-01-03 15:28:18  \n",
       "2  Family diner. Had the buffet. Eclectic assortm...  2014-02-05 20:30:30  \n",
       "3  Wow!  Yummy, different,  delicious.   Our favo...  2015-01-04 00:01:03  \n",
       "4  Cute interior and owner (?) gave us tour of up...  2017-01-14 20:54:15  "
      ]
     },
     "execution_count": 7,
     "metadata": {},
     "output_type": "execute_result"
    }
   ],
   "source": [
    "reviews_df.head()"
   ]
  },
  {
   "cell_type": "code",
   "execution_count": 8,
   "id": "d7ad47b3",
   "metadata": {},
   "outputs": [],
   "source": [
    "# Importing the user data\n",
    "# Due to the large size, we restrict the analysis to the first 5Mio. users\n",
    "data_file = open(\"yelp_dataset/yelp_academic_dataset_user.json\", encoding=\"utf8\")\n",
    "data = []\n",
    "N = 5000000 #top 5 Mio. users\n",
    "n = 0\n",
    "\n",
    "for line in data_file:\n",
    "    data.append(json.loads(line))\n",
    "    n += 1\n",
    "    if n>=N:\n",
    "        break;\n",
    "        \n",
    "users_df = pd.DataFrame(data)\n",
    "data_file.close()"
   ]
  },
  {
   "cell_type": "code",
   "execution_count": 9,
   "id": "c80650d3",
   "metadata": {},
   "outputs": [
    {
     "data": {
      "text/html": [
       "<div>\n",
       "<style scoped>\n",
       "    .dataframe tbody tr th:only-of-type {\n",
       "        vertical-align: middle;\n",
       "    }\n",
       "\n",
       "    .dataframe tbody tr th {\n",
       "        vertical-align: top;\n",
       "    }\n",
       "\n",
       "    .dataframe thead th {\n",
       "        text-align: right;\n",
       "    }\n",
       "</style>\n",
       "<table border=\"1\" class=\"dataframe\">\n",
       "  <thead>\n",
       "    <tr style=\"text-align: right;\">\n",
       "      <th></th>\n",
       "      <th>user_id</th>\n",
       "      <th>name</th>\n",
       "      <th>review_count</th>\n",
       "      <th>yelping_since</th>\n",
       "      <th>useful</th>\n",
       "      <th>funny</th>\n",
       "      <th>cool</th>\n",
       "      <th>elite</th>\n",
       "      <th>friends</th>\n",
       "      <th>fans</th>\n",
       "      <th>...</th>\n",
       "      <th>compliment_more</th>\n",
       "      <th>compliment_profile</th>\n",
       "      <th>compliment_cute</th>\n",
       "      <th>compliment_list</th>\n",
       "      <th>compliment_note</th>\n",
       "      <th>compliment_plain</th>\n",
       "      <th>compliment_cool</th>\n",
       "      <th>compliment_funny</th>\n",
       "      <th>compliment_writer</th>\n",
       "      <th>compliment_photos</th>\n",
       "    </tr>\n",
       "  </thead>\n",
       "  <tbody>\n",
       "    <tr>\n",
       "      <th>0</th>\n",
       "      <td>qVc8ODYU5SZjKXVBgXdI7w</td>\n",
       "      <td>Walker</td>\n",
       "      <td>585</td>\n",
       "      <td>2007-01-25 16:47:26</td>\n",
       "      <td>7217</td>\n",
       "      <td>1259</td>\n",
       "      <td>5994</td>\n",
       "      <td>2007</td>\n",
       "      <td>NSCy54eWehBJyZdG2iE84w, pe42u7DcCH2QmI81NX-8qA...</td>\n",
       "      <td>267</td>\n",
       "      <td>...</td>\n",
       "      <td>65</td>\n",
       "      <td>55</td>\n",
       "      <td>56</td>\n",
       "      <td>18</td>\n",
       "      <td>232</td>\n",
       "      <td>844</td>\n",
       "      <td>467</td>\n",
       "      <td>467</td>\n",
       "      <td>239</td>\n",
       "      <td>180</td>\n",
       "    </tr>\n",
       "    <tr>\n",
       "      <th>1</th>\n",
       "      <td>j14WgRoU_-2ZE1aw1dXrJg</td>\n",
       "      <td>Daniel</td>\n",
       "      <td>4333</td>\n",
       "      <td>2009-01-25 04:35:42</td>\n",
       "      <td>43091</td>\n",
       "      <td>13066</td>\n",
       "      <td>27281</td>\n",
       "      <td>2009,2010,2011,2012,2013,2014,2015,2016,2017,2...</td>\n",
       "      <td>ueRPE0CX75ePGMqOFVj6IQ, 52oH4DrRvzzl8wh5UXyU0A...</td>\n",
       "      <td>3138</td>\n",
       "      <td>...</td>\n",
       "      <td>264</td>\n",
       "      <td>184</td>\n",
       "      <td>157</td>\n",
       "      <td>251</td>\n",
       "      <td>1847</td>\n",
       "      <td>7054</td>\n",
       "      <td>3131</td>\n",
       "      <td>3131</td>\n",
       "      <td>1521</td>\n",
       "      <td>1946</td>\n",
       "    </tr>\n",
       "    <tr>\n",
       "      <th>2</th>\n",
       "      <td>2WnXYQFK0hXEoTxPtV2zvg</td>\n",
       "      <td>Steph</td>\n",
       "      <td>665</td>\n",
       "      <td>2008-07-25 10:41:00</td>\n",
       "      <td>2086</td>\n",
       "      <td>1010</td>\n",
       "      <td>1003</td>\n",
       "      <td>2009,2010,2011,2012,2013</td>\n",
       "      <td>LuO3Bn4f3rlhyHIaNfTlnA, j9B4XdHUhDfTKVecyWQgyA...</td>\n",
       "      <td>52</td>\n",
       "      <td>...</td>\n",
       "      <td>13</td>\n",
       "      <td>10</td>\n",
       "      <td>17</td>\n",
       "      <td>3</td>\n",
       "      <td>66</td>\n",
       "      <td>96</td>\n",
       "      <td>119</td>\n",
       "      <td>119</td>\n",
       "      <td>35</td>\n",
       "      <td>18</td>\n",
       "    </tr>\n",
       "    <tr>\n",
       "      <th>3</th>\n",
       "      <td>SZDeASXq7o05mMNLshsdIA</td>\n",
       "      <td>Gwen</td>\n",
       "      <td>224</td>\n",
       "      <td>2005-11-29 04:38:33</td>\n",
       "      <td>512</td>\n",
       "      <td>330</td>\n",
       "      <td>299</td>\n",
       "      <td>2009,2010,2011</td>\n",
       "      <td>enx1vVPnfdNUdPho6PH_wg, 4wOcvMLtU6a9Lslggq74Vg...</td>\n",
       "      <td>28</td>\n",
       "      <td>...</td>\n",
       "      <td>4</td>\n",
       "      <td>1</td>\n",
       "      <td>6</td>\n",
       "      <td>2</td>\n",
       "      <td>12</td>\n",
       "      <td>16</td>\n",
       "      <td>26</td>\n",
       "      <td>26</td>\n",
       "      <td>10</td>\n",
       "      <td>9</td>\n",
       "    </tr>\n",
       "    <tr>\n",
       "      <th>4</th>\n",
       "      <td>hA5lMy-EnncsH4JoR-hFGQ</td>\n",
       "      <td>Karen</td>\n",
       "      <td>79</td>\n",
       "      <td>2007-01-05 19:40:59</td>\n",
       "      <td>29</td>\n",
       "      <td>15</td>\n",
       "      <td>7</td>\n",
       "      <td></td>\n",
       "      <td>PBK4q9KEEBHhFvSXCUirIw, 3FWPpM7KU1gXeOM_ZbYMbA...</td>\n",
       "      <td>1</td>\n",
       "      <td>...</td>\n",
       "      <td>1</td>\n",
       "      <td>0</td>\n",
       "      <td>0</td>\n",
       "      <td>0</td>\n",
       "      <td>1</td>\n",
       "      <td>1</td>\n",
       "      <td>0</td>\n",
       "      <td>0</td>\n",
       "      <td>0</td>\n",
       "      <td>0</td>\n",
       "    </tr>\n",
       "  </tbody>\n",
       "</table>\n",
       "<p>5 rows × 22 columns</p>\n",
       "</div>"
      ],
      "text/plain": [
       "                  user_id    name  review_count        yelping_since  useful  \\\n",
       "0  qVc8ODYU5SZjKXVBgXdI7w  Walker           585  2007-01-25 16:47:26    7217   \n",
       "1  j14WgRoU_-2ZE1aw1dXrJg  Daniel          4333  2009-01-25 04:35:42   43091   \n",
       "2  2WnXYQFK0hXEoTxPtV2zvg   Steph           665  2008-07-25 10:41:00    2086   \n",
       "3  SZDeASXq7o05mMNLshsdIA    Gwen           224  2005-11-29 04:38:33     512   \n",
       "4  hA5lMy-EnncsH4JoR-hFGQ   Karen            79  2007-01-05 19:40:59      29   \n",
       "\n",
       "   funny   cool                                              elite  \\\n",
       "0   1259   5994                                               2007   \n",
       "1  13066  27281  2009,2010,2011,2012,2013,2014,2015,2016,2017,2...   \n",
       "2   1010   1003                           2009,2010,2011,2012,2013   \n",
       "3    330    299                                     2009,2010,2011   \n",
       "4     15      7                                                      \n",
       "\n",
       "                                             friends  fans  ...  \\\n",
       "0  NSCy54eWehBJyZdG2iE84w, pe42u7DcCH2QmI81NX-8qA...   267  ...   \n",
       "1  ueRPE0CX75ePGMqOFVj6IQ, 52oH4DrRvzzl8wh5UXyU0A...  3138  ...   \n",
       "2  LuO3Bn4f3rlhyHIaNfTlnA, j9B4XdHUhDfTKVecyWQgyA...    52  ...   \n",
       "3  enx1vVPnfdNUdPho6PH_wg, 4wOcvMLtU6a9Lslggq74Vg...    28  ...   \n",
       "4  PBK4q9KEEBHhFvSXCUirIw, 3FWPpM7KU1gXeOM_ZbYMbA...     1  ...   \n",
       "\n",
       "   compliment_more  compliment_profile  compliment_cute  compliment_list  \\\n",
       "0               65                  55               56               18   \n",
       "1              264                 184              157              251   \n",
       "2               13                  10               17                3   \n",
       "3                4                   1                6                2   \n",
       "4                1                   0                0                0   \n",
       "\n",
       "   compliment_note  compliment_plain  compliment_cool  compliment_funny  \\\n",
       "0              232               844              467               467   \n",
       "1             1847              7054             3131              3131   \n",
       "2               66                96              119               119   \n",
       "3               12                16               26                26   \n",
       "4                1                 1                0                 0   \n",
       "\n",
       "   compliment_writer  compliment_photos  \n",
       "0                239                180  \n",
       "1               1521               1946  \n",
       "2                 35                 18  \n",
       "3                 10                  9  \n",
       "4                  0                  0  \n",
       "\n",
       "[5 rows x 22 columns]"
      ]
     },
     "execution_count": 9,
     "metadata": {},
     "output_type": "execute_result"
    }
   ],
   "source": [
    "users_df.head()"
   ]
  },
  {
   "cell_type": "markdown",
   "id": "dda86f07",
   "metadata": {
    "jp-MarkdownHeadingCollapsed": true,
    "tags": []
   },
   "source": [
    "## 1 - Exploratory Data Analysis"
   ]
  },
  {
   "cell_type": "markdown",
   "id": "f61ba80b",
   "metadata": {},
   "source": [
    "### Exploring the reviews data"
   ]
  },
  {
   "cell_type": "code",
   "execution_count": 10,
   "id": "a548f6fd",
   "metadata": {},
   "outputs": [
    {
     "data": {
      "text/html": [
       "<div>\n",
       "<style scoped>\n",
       "    .dataframe tbody tr th:only-of-type {\n",
       "        vertical-align: middle;\n",
       "    }\n",
       "\n",
       "    .dataframe tbody tr th {\n",
       "        vertical-align: top;\n",
       "    }\n",
       "\n",
       "    .dataframe thead th {\n",
       "        text-align: right;\n",
       "    }\n",
       "</style>\n",
       "<table border=\"1\" class=\"dataframe\">\n",
       "  <thead>\n",
       "    <tr style=\"text-align: right;\">\n",
       "      <th></th>\n",
       "      <th>stars</th>\n",
       "      <th>useful</th>\n",
       "      <th>funny</th>\n",
       "      <th>cool</th>\n",
       "    </tr>\n",
       "  </thead>\n",
       "  <tbody>\n",
       "    <tr>\n",
       "      <th>count</th>\n",
       "      <td>5.000000e+06</td>\n",
       "      <td>5.000000e+06</td>\n",
       "      <td>5.000000e+06</td>\n",
       "      <td>5.000000e+06</td>\n",
       "    </tr>\n",
       "    <tr>\n",
       "      <th>mean</th>\n",
       "      <td>3.748844e+00</td>\n",
       "      <td>1.176868e+00</td>\n",
       "      <td>3.238060e-01</td>\n",
       "      <td>4.937522e-01</td>\n",
       "    </tr>\n",
       "    <tr>\n",
       "      <th>std</th>\n",
       "      <td>1.476625e+00</td>\n",
       "      <td>2.906969e+00</td>\n",
       "      <td>1.512593e+00</td>\n",
       "      <td>1.987271e+00</td>\n",
       "    </tr>\n",
       "    <tr>\n",
       "      <th>min</th>\n",
       "      <td>1.000000e+00</td>\n",
       "      <td>-1.000000e+00</td>\n",
       "      <td>-1.000000e+00</td>\n",
       "      <td>-1.000000e+00</td>\n",
       "    </tr>\n",
       "    <tr>\n",
       "      <th>25%</th>\n",
       "      <td>3.000000e+00</td>\n",
       "      <td>0.000000e+00</td>\n",
       "      <td>0.000000e+00</td>\n",
       "      <td>0.000000e+00</td>\n",
       "    </tr>\n",
       "    <tr>\n",
       "      <th>50%</th>\n",
       "      <td>4.000000e+00</td>\n",
       "      <td>0.000000e+00</td>\n",
       "      <td>0.000000e+00</td>\n",
       "      <td>0.000000e+00</td>\n",
       "    </tr>\n",
       "    <tr>\n",
       "      <th>75%</th>\n",
       "      <td>5.000000e+00</td>\n",
       "      <td>1.000000e+00</td>\n",
       "      <td>0.000000e+00</td>\n",
       "      <td>0.000000e+00</td>\n",
       "    </tr>\n",
       "    <tr>\n",
       "      <th>max</th>\n",
       "      <td>5.000000e+00</td>\n",
       "      <td>5.390000e+02</td>\n",
       "      <td>2.840000e+02</td>\n",
       "      <td>2.610000e+02</td>\n",
       "    </tr>\n",
       "  </tbody>\n",
       "</table>\n",
       "</div>"
      ],
      "text/plain": [
       "              stars        useful         funny          cool\n",
       "count  5.000000e+06  5.000000e+06  5.000000e+06  5.000000e+06\n",
       "mean   3.748844e+00  1.176868e+00  3.238060e-01  4.937522e-01\n",
       "std    1.476625e+00  2.906969e+00  1.512593e+00  1.987271e+00\n",
       "min    1.000000e+00 -1.000000e+00 -1.000000e+00 -1.000000e+00\n",
       "25%    3.000000e+00  0.000000e+00  0.000000e+00  0.000000e+00\n",
       "50%    4.000000e+00  0.000000e+00  0.000000e+00  0.000000e+00\n",
       "75%    5.000000e+00  1.000000e+00  0.000000e+00  0.000000e+00\n",
       "max    5.000000e+00  5.390000e+02  2.840000e+02  2.610000e+02"
      ]
     },
     "execution_count": 10,
     "metadata": {},
     "output_type": "execute_result"
    }
   ],
   "source": [
    "reviews_df.describe()"
   ]
  },
  {
   "cell_type": "code",
   "execution_count": 11,
   "id": "9d73ee23",
   "metadata": {},
   "outputs": [
    {
     "name": "stdout",
     "output_type": "stream",
     "text": [
      "<class 'pandas.core.frame.DataFrame'>\n",
      "RangeIndex: 5000000 entries, 0 to 4999999\n",
      "Data columns (total 9 columns):\n",
      " #   Column       Dtype  \n",
      "---  ------       -----  \n",
      " 0   review_id    object \n",
      " 1   user_id      object \n",
      " 2   business_id  object \n",
      " 3   stars        float64\n",
      " 4   useful       int64  \n",
      " 5   funny        int64  \n",
      " 6   cool         int64  \n",
      " 7   text         object \n",
      " 8   date         object \n",
      "dtypes: float64(1), int64(3), object(5)\n",
      "memory usage: 343.3+ MB\n"
     ]
    }
   ],
   "source": [
    "reviews_df.info()"
   ]
  },
  {
   "cell_type": "markdown",
   "id": "37cd8fc2",
   "metadata": {},
   "source": [
    "We can see that on average the reviewers are rating the businesses with 3.75 stars on a scale from 1 to 5, indicating that there is a tendency towards higher ratings in the data. Also, on average the reviews are given 1.2 up-votes (\"useful\") from other users, which points us towards rather using reviews that received such up-votes than ones which have not been considered useful. Lastly, there doesn't seem to be any missing information so that we can proceed using the reviews data as-is, which is also in line with our expectation after reading the documentation for the dataset offered by Yelp (https://www.yelp.com/dataset)."
   ]
  },
  {
   "cell_type": "code",
   "execution_count": 12,
   "id": "3bbdc27f",
   "metadata": {},
   "outputs": [
    {
     "data": {
      "image/png": "[encoded data removed]",
      "text/plain": [
       "<Figure size 1080x360 with 2 Axes>"
      ]
     },
     "metadata": {},
     "output_type": "display_data"
    }
   ],
   "source": [
    "#check the distribution of some variables\n",
    "stars = reviews_df['stars'].value_counts()\n",
    "users = reviews_df['user_id'].value_counts()\n",
    "\n",
    "fig, axes = plt.subplots(1,2,figsize=(15,5))\n",
    "\n",
    "#distrubution of star ratings\n",
    "sns.barplot(ax=axes[0], x = stars.index, y = stars.values)\n",
    "axes[0].set_title(\"Count of star ratings for reviews\")\n",
    "axes[0].set_xlabel(\"Star ratings\")\n",
    "axes[0].set_ylabel(\"Count\")\n",
    "\n",
    "#distribution of top 20 users that gave a rating\n",
    "sns.barplot(ax=axes[1], x = users.index[:20], y = users.values[:20])\n",
    "axes[1].set_title(\"Top 20 count of reviews per user\")\n",
    "axes[1].set_xlabel(\"User ID\")\n",
    "axes[1].set_ylabel(\"Count\")\n",
    "axes[1].set_xticklabels(users.index[:20], rotation=90)\n",
    "\n",
    "plt.show()"
   ]
  },
  {
   "cell_type": "markdown",
   "id": "0e401fd8",
   "metadata": {},
   "source": [
    "### Exploring the business data"
   ]
  },
  {
   "cell_type": "code",
   "execution_count": 18,
   "id": "feb4f4a4",
   "metadata": {},
   "outputs": [
    {
     "data": {
      "text/html": [
       "<div>\n",
       "<style scoped>\n",
       "    .dataframe tbody tr th:only-of-type {\n",
       "        vertical-align: middle;\n",
       "    }\n",
       "\n",
       "    .dataframe tbody tr th {\n",
       "        vertical-align: top;\n",
       "    }\n",
       "\n",
       "    .dataframe thead th {\n",
       "        text-align: right;\n",
       "    }\n",
       "</style>\n",
       "<table border=\"1\" class=\"dataframe\">\n",
       "  <thead>\n",
       "    <tr style=\"text-align: right;\">\n",
       "      <th></th>\n",
       "      <th>latitude</th>\n",
       "      <th>longitude</th>\n",
       "      <th>stars</th>\n",
       "      <th>review_count</th>\n",
       "      <th>is_open</th>\n",
       "    </tr>\n",
       "  </thead>\n",
       "  <tbody>\n",
       "    <tr>\n",
       "      <th>count</th>\n",
       "      <td>150346.000000</td>\n",
       "      <td>150346.000000</td>\n",
       "      <td>150346.000000</td>\n",
       "      <td>150346.000000</td>\n",
       "      <td>150346.00000</td>\n",
       "    </tr>\n",
       "    <tr>\n",
       "      <th>mean</th>\n",
       "      <td>36.671150</td>\n",
       "      <td>-89.357339</td>\n",
       "      <td>3.596724</td>\n",
       "      <td>44.866561</td>\n",
       "      <td>0.79615</td>\n",
       "    </tr>\n",
       "    <tr>\n",
       "      <th>std</th>\n",
       "      <td>5.872759</td>\n",
       "      <td>14.918502</td>\n",
       "      <td>0.974421</td>\n",
       "      <td>121.120136</td>\n",
       "      <td>0.40286</td>\n",
       "    </tr>\n",
       "    <tr>\n",
       "      <th>min</th>\n",
       "      <td>27.555127</td>\n",
       "      <td>-120.095137</td>\n",
       "      <td>1.000000</td>\n",
       "      <td>5.000000</td>\n",
       "      <td>0.00000</td>\n",
       "    </tr>\n",
       "    <tr>\n",
       "      <th>25%</th>\n",
       "      <td>32.187293</td>\n",
       "      <td>-90.357810</td>\n",
       "      <td>3.000000</td>\n",
       "      <td>8.000000</td>\n",
       "      <td>1.00000</td>\n",
       "    </tr>\n",
       "    <tr>\n",
       "      <th>50%</th>\n",
       "      <td>38.777413</td>\n",
       "      <td>-86.121179</td>\n",
       "      <td>3.500000</td>\n",
       "      <td>15.000000</td>\n",
       "      <td>1.00000</td>\n",
       "    </tr>\n",
       "    <tr>\n",
       "      <th>75%</th>\n",
       "      <td>39.954036</td>\n",
       "      <td>-75.421542</td>\n",
       "      <td>4.500000</td>\n",
       "      <td>37.000000</td>\n",
       "      <td>1.00000</td>\n",
       "    </tr>\n",
       "    <tr>\n",
       "      <th>max</th>\n",
       "      <td>53.679197</td>\n",
       "      <td>-73.200457</td>\n",
       "      <td>5.000000</td>\n",
       "      <td>7568.000000</td>\n",
       "      <td>1.00000</td>\n",
       "    </tr>\n",
       "  </tbody>\n",
       "</table>\n",
       "</div>"
      ],
      "text/plain": [
       "            latitude      longitude          stars   review_count  \\\n",
       "count  150346.000000  150346.000000  150346.000000  150346.000000   \n",
       "mean       36.671150     -89.357339       3.596724      44.866561   \n",
       "std         5.872759      14.918502       0.974421     121.120136   \n",
       "min        27.555127    -120.095137       1.000000       5.000000   \n",
       "25%        32.187293     -90.357810       3.000000       8.000000   \n",
       "50%        38.777413     -86.121179       3.500000      15.000000   \n",
       "75%        39.954036     -75.421542       4.500000      37.000000   \n",
       "max        53.679197     -73.200457       5.000000    7568.000000   \n",
       "\n",
       "            is_open  \n",
       "count  150346.00000  \n",
       "mean        0.79615  \n",
       "std         0.40286  \n",
       "min         0.00000  \n",
       "25%         1.00000  \n",
       "50%         1.00000  \n",
       "75%         1.00000  \n",
       "max         1.00000  "
      ]
     },
     "execution_count": 18,
     "metadata": {},
     "output_type": "execute_result"
    }
   ],
   "source": [
    "business_df.describe()"
   ]
  },
  {
   "cell_type": "code",
   "execution_count": 19,
   "id": "78df642c",
   "metadata": {},
   "outputs": [
    {
     "name": "stdout",
     "output_type": "stream",
     "text": [
      "<class 'pandas.core.frame.DataFrame'>\n",
      "RangeIndex: 150346 entries, 0 to 150345\n",
      "Data columns (total 14 columns):\n",
      " #   Column        Non-Null Count   Dtype  \n",
      "---  ------        --------------   -----  \n",
      " 0   business_id   150346 non-null  object \n",
      " 1   name          150346 non-null  object \n",
      " 2   address       150346 non-null  object \n",
      " 3   city          150346 non-null  object \n",
      " 4   state         150346 non-null  object \n",
      " 5   postal_code   150346 non-null  object \n",
      " 6   latitude      150346 non-null  float64\n",
      " 7   longitude     150346 non-null  float64\n",
      " 8   stars         150346 non-null  float64\n",
      " 9   review_count  150346 non-null  int64  \n",
      " 10  is_open       150346 non-null  int64  \n",
      " 11  attributes    136602 non-null  object \n",
      " 12  categories    150243 non-null  object \n",
      " 13  hours         127123 non-null  object \n",
      "dtypes: float64(3), int64(2), object(9)\n",
      "memory usage: 16.1+ MB\n"
     ]
    }
   ],
   "source": [
    "business_df.info()"
   ]
  },
  {
   "cell_type": "markdown",
   "id": "de6a4f50",
   "metadata": {},
   "source": [
    "The businesses data also seems to be complete in terms of the columns that we want to use, so that there is no need for further processing. We see that the average star rating for businesses of 3.6 again indicates that the ratings are skewed towards higher ones. The average count of reviews per businesses is 45, which also is in line with what we observed in the reviews dataframe. "
   ]
  },
  {
   "cell_type": "code",
   "execution_count": 20,
   "id": "a6a34d90",
   "metadata": {},
   "outputs": [
    {
     "data": {
      "image/png": "[encoded data removed]",
      "text/plain": [
       "<Figure size 1080x360 with 2 Axes>"
      ]
     },
     "metadata": {},
     "output_type": "display_data"
    }
   ],
   "source": [
    "#check the distribution of some variables\n",
    "fig, axes = plt.subplots(1, 2, figsize=(15, 5))\n",
    "\n",
    "#Category data\n",
    "counts_cat = business_df.groupby('categories').count().sort_values(by='business_id', ascending = False)\n",
    "sns.barplot(ax=axes[0], x=counts_cat.index[0:30], y=counts_cat['business_id'].iloc[0:30])\n",
    "axes[0].tick_params(axis='x', rotation=90)\n",
    "axes[0].set_title(\"Number of businesses per category\")\n",
    "axes[0].set_xlabel(\"Category\")\n",
    "axes[0].set_ylabel(\"Count\")\n",
    "\n",
    "#Category data detailed\n",
    "business_cats = ''.join(business_df['categories'].astype('str'))\n",
    "cats=pd.DataFrame(business_cats.split(','),columns=['categories'])\n",
    "\n",
    "num_cats=cats.categories.value_counts()\n",
    "num_cats=num_cats.sort_values(ascending=False)\n",
    "num_cats=num_cats.iloc[0:30]\n",
    "\n",
    "sns.barplot(ax=axes[1], x=num_cats.index, y=num_cats.values)\n",
    "axes[1].tick_params(axis='x', rotation=90)\n",
    "axes[1].set_title(\"Number of businesses per category (split on single category labels)\")\n",
    "axes[1].set_xlabel(\"Category\")\n",
    "axes[1].set_ylabel(\"Count\")\n",
    "\n",
    "plt.show()"
   ]
  },
  {
   "cell_type": "code",
   "execution_count": 36,
   "id": "9f9172bd",
   "metadata": {},
   "outputs": [
    {
     "ename": "NameError",
     "evalue": "name 'reviews_df' is not defined",
     "output_type": "error",
     "traceback": [
      "\u001b[0;31m---------------------------------------------------------------------------\u001b[0m",
      "\u001b[0;31mNameError\u001b[0m                                 Traceback (most recent call last)",
      "\u001b[1;32m/Users/borisllonaalonso/Documents/DTU/ML Ops/Project/mlops-project/notebooks/Final_YelpAnalysis.ipynb Cell 25\u001b[0m in \u001b[0;36m<cell line: 2>\u001b[0;34m()\u001b[0m\n\u001b[1;32m      <a href='vscode-notebook-cell:/Users/borisllonaalonso/Documents/DTU/ML%20Ops/Project/mlops-project/notebooks/Final_YelpAnalysis.ipynb#Y533sZmlsZQ%3D%3D?line=0'>1</a>\u001b[0m \u001b[39m#merge the reviews dataset with some user information\u001b[39;00m\n\u001b[0;32m----> <a href='vscode-notebook-cell:/Users/borisllonaalonso/Documents/DTU/ML%20Ops/Project/mlops-project/notebooks/Final_YelpAnalysis.ipynb#Y533sZmlsZQ%3D%3D?line=1'>2</a>\u001b[0m reviews_users_df \u001b[39m=\u001b[39m reviews_df\u001b[39m.\u001b[39mmerge(users_df, how\u001b[39m=\u001b[39m\u001b[39m'\u001b[39m\u001b[39minner\u001b[39m\u001b[39m'\u001b[39m, on\u001b[39m=\u001b[39m\u001b[39m\"\u001b[39m\u001b[39muser_id\u001b[39m\u001b[39m\"\u001b[39m, suffixes\u001b[39m=\u001b[39m(\u001b[39m'\u001b[39m\u001b[39m_review\u001b[39m\u001b[39m'\u001b[39m,\u001b[39m'\u001b[39m\u001b[39m_user\u001b[39m\u001b[39m'\u001b[39m))\n\u001b[1;32m      <a href='vscode-notebook-cell:/Users/borisllonaalonso/Documents/DTU/ML%20Ops/Project/mlops-project/notebooks/Final_YelpAnalysis.ipynb#Y533sZmlsZQ%3D%3D?line=3'>4</a>\u001b[0m \u001b[39m#drop the columns that won't be needed\u001b[39;00m\n\u001b[1;32m      <a href='vscode-notebook-cell:/Users/borisllonaalonso/Documents/DTU/ML%20Ops/Project/mlops-project/notebooks/Final_YelpAnalysis.ipynb#Y533sZmlsZQ%3D%3D?line=4'>5</a>\u001b[0m reviews_users_df \u001b[39m=\u001b[39m reviews_users_df\u001b[39m.\u001b[39mdrop([\u001b[39m'\u001b[39m\u001b[39myelping_since\u001b[39m\u001b[39m'\u001b[39m, \u001b[39m'\u001b[39m\u001b[39melite\u001b[39m\u001b[39m'\u001b[39m, \u001b[39m'\u001b[39m\u001b[39mfriends\u001b[39m\u001b[39m'\u001b[39m, \u001b[39m'\u001b[39m\u001b[39mfans\u001b[39m\u001b[39m'\u001b[39m, \u001b[39m'\u001b[39m\u001b[39mcompliment_hot\u001b[39m\u001b[39m'\u001b[39m, \u001b[39m'\u001b[39m\u001b[39mcompliment_more\u001b[39m\u001b[39m'\u001b[39m,\n\u001b[1;32m      <a href='vscode-notebook-cell:/Users/borisllonaalonso/Documents/DTU/ML%20Ops/Project/mlops-project/notebooks/Final_YelpAnalysis.ipynb#Y533sZmlsZQ%3D%3D?line=5'>6</a>\u001b[0m                        \u001b[39m'\u001b[39m\u001b[39mcompliment_profile\u001b[39m\u001b[39m'\u001b[39m, \u001b[39m'\u001b[39m\u001b[39mcompliment_cute\u001b[39m\u001b[39m'\u001b[39m, \u001b[39m'\u001b[39m\u001b[39mcompliment_cute\u001b[39m\u001b[39m'\u001b[39m, \u001b[39m'\u001b[39m\u001b[39mcompliment_list\u001b[39m\u001b[39m'\u001b[39m,\n\u001b[1;32m      <a href='vscode-notebook-cell:/Users/borisllonaalonso/Documents/DTU/ML%20Ops/Project/mlops-project/notebooks/Final_YelpAnalysis.ipynb#Y533sZmlsZQ%3D%3D?line=6'>7</a>\u001b[0m                        \u001b[39m'\u001b[39m\u001b[39mcompliment_note\u001b[39m\u001b[39m'\u001b[39m, \u001b[39m'\u001b[39m\u001b[39mcompliment_plain\u001b[39m\u001b[39m'\u001b[39m, \u001b[39m'\u001b[39m\u001b[39mcompliment_cool\u001b[39m\u001b[39m'\u001b[39m, \u001b[39m'\u001b[39m\u001b[39mcompliment_funny\u001b[39m\u001b[39m'\u001b[39m,\n\u001b[1;32m      <a href='vscode-notebook-cell:/Users/borisllonaalonso/Documents/DTU/ML%20Ops/Project/mlops-project/notebooks/Final_YelpAnalysis.ipynb#Y533sZmlsZQ%3D%3D?line=7'>8</a>\u001b[0m                        \u001b[39m'\u001b[39m\u001b[39mcompliment_writer\u001b[39m\u001b[39m'\u001b[39m, \u001b[39m'\u001b[39m\u001b[39mcompliment_photos\u001b[39m\u001b[39m'\u001b[39m], axis\u001b[39m=\u001b[39m\u001b[39m1\u001b[39m)\n",
      "\u001b[0;31mNameError\u001b[0m: name 'reviews_df' is not defined"
     ]
    }
   ],
   "source": [
    "#merge the reviews dataset with some user information\n",
    "reviews_users_df = reviews_df.merge(users_df, how='inner', on=\"user_id\", suffixes=('_review','_user'))\n",
    "\n",
    "#drop the columns that won't be needed\n",
    "reviews_users_df = reviews_users_df.drop(['yelping_since', 'elite', 'friends', 'fans', 'compliment_hot', 'compliment_more',\n",
    "                       'compliment_profile', 'compliment_cute', 'compliment_cute', 'compliment_list',\n",
    "                       'compliment_note', 'compliment_plain', 'compliment_cool', 'compliment_funny',\n",
    "                       'compliment_writer', 'compliment_photos'], axis=1)\n",
    "\n",
    "#merge the reviews and users data with businesses data\n",
    "df = reviews_users_df.merge(business_df, how='inner', on=\"business_id\", suffixes=('_review','_business'))\n",
    "\n",
    "#drop the columns that won't be needed\n",
    "df = df.drop(['address', 'latitude', 'longitude', 'is_open', 'hours'],axis=1)"
   ]
  },
  {
   "cell_type": "code",
   "execution_count": null,
   "id": "d182d66c",
   "metadata": {},
   "outputs": [],
   "source": [
    "#Save pickle for quicker execution\n",
    "#df.to_pickle('../src/data/Pickles/df.pkl')"
   ]
  },
  {
   "cell_type": "markdown",
   "id": "d07dca25",
   "metadata": {},
   "source": [
    "### Filtering the data\n",
    "Based on the initial EDA, we decided to initially focus our analysis on the following data snippet:\n",
    "* Reviews for restaurants...\n",
    "* ...in the postal area \"70130\"...\n",
    "* ...that have been made in the last 3 years before the year of the last available review...\n",
    "* ...where there are more than 100 reviews for a restaurant...\n",
    "* ...which have been up-voted at least once...\n",
    "* ...sorted by the users with the most upvotes in their history\n",
    "\n",
    "This reduces the size of the dataframe from almost 3.4M reviews to about 10k, with reviews for about 140 different restaurants."
   ]
  },
  {
   "cell_type": "code",
   "execution_count": 4,
   "id": "72141604",
   "metadata": {},
   "outputs": [
    {
     "ename": "KeyboardInterrupt",
     "evalue": "",
     "output_type": "error",
     "traceback": [
      "\u001b[0;31m---------------------------------------------------------------------------\u001b[0m",
      "\u001b[0;31mUnpicklingError\u001b[0m                           Traceback (most recent call last)",
      "File \u001b[0;32m~/opt/anaconda3/lib/python3.9/site-packages/pandas/io/pickle.py:205\u001b[0m, in \u001b[0;36mread_pickle\u001b[0;34m(filepath_or_buffer, compression, storage_options)\u001b[0m\n\u001b[1;32m    204\u001b[0m         warnings\u001b[39m.\u001b[39msimplefilter(\u001b[39m\"\u001b[39m\u001b[39mignore\u001b[39m\u001b[39m\"\u001b[39m, \u001b[39mWarning\u001b[39;00m)\n\u001b[0;32m--> 205\u001b[0m         \u001b[39mreturn\u001b[39;00m pickle\u001b[39m.\u001b[39;49mload(handles\u001b[39m.\u001b[39;49mhandle)\n\u001b[1;32m    206\u001b[0m \u001b[39mexcept\u001b[39;00m excs_to_catch:\n\u001b[1;32m    207\u001b[0m     \u001b[39m# e.g.\u001b[39;00m\n\u001b[1;32m    208\u001b[0m     \u001b[39m#  \"No module named 'pandas.core.sparse.series'\"\u001b[39;00m\n\u001b[1;32m    209\u001b[0m     \u001b[39m#  \"Can't get attribute '__nat_unpickle' on <module 'pandas._libs.tslib\"\u001b[39;00m\n",
      "\u001b[0;31mUnpicklingError\u001b[0m: pickle data was truncated",
      "\nDuring handling of the above exception, another exception occurred:\n",
      "\u001b[0;31mKeyboardInterrupt\u001b[0m                         Traceback (most recent call last)",
      "\u001b[1;32m/Users/borisllonaalonso/Documents/DTU/ML Ops/Project/mlops-project/notebooks/YalpReviewsFGSentimentAnalysis.ipynb Cell 28\u001b[0m in \u001b[0;36m<cell line: 1>\u001b[0;34m()\u001b[0m\n\u001b[0;32m----> <a href='vscode-notebook-cell:/Users/borisllonaalonso/Documents/DTU/ML%20Ops/Project/mlops-project/notebooks/YalpReviewsFGSentimentAnalysis.ipynb#X36sZmlsZQ%3D%3D?line=0'>1</a>\u001b[0m df \u001b[39m=\u001b[39m pd\u001b[39m.\u001b[39;49mread_pickle(\u001b[39m'\u001b[39;49m\u001b[39m../src/data/Pickles/df.pkl\u001b[39;49m\u001b[39m'\u001b[39;49m)\n",
      "File \u001b[0;32m~/opt/anaconda3/lib/python3.9/site-packages/pandas/io/pickle.py:205\u001b[0m, in \u001b[0;36mread_pickle\u001b[0;34m(filepath_or_buffer, compression, storage_options)\u001b[0m\n\u001b[1;32m    202\u001b[0m     \u001b[39mwith\u001b[39;00m warnings\u001b[39m.\u001b[39mcatch_warnings(record\u001b[39m=\u001b[39m\u001b[39mTrue\u001b[39;00m):\n\u001b[1;32m    203\u001b[0m         \u001b[39m# We want to silence any warnings about, e.g. moved modules.\u001b[39;00m\n\u001b[1;32m    204\u001b[0m         warnings\u001b[39m.\u001b[39msimplefilter(\u001b[39m\"\u001b[39m\u001b[39mignore\u001b[39m\u001b[39m\"\u001b[39m, \u001b[39mWarning\u001b[39;00m)\n\u001b[0;32m--> 205\u001b[0m         \u001b[39mreturn\u001b[39;00m pickle\u001b[39m.\u001b[39;49mload(handles\u001b[39m.\u001b[39;49mhandle)\n\u001b[1;32m    206\u001b[0m \u001b[39mexcept\u001b[39;00m excs_to_catch:\n\u001b[1;32m    207\u001b[0m     \u001b[39m# e.g.\u001b[39;00m\n\u001b[1;32m    208\u001b[0m     \u001b[39m#  \"No module named 'pandas.core.sparse.series'\"\u001b[39;00m\n\u001b[1;32m    209\u001b[0m     \u001b[39m#  \"Can't get attribute '__nat_unpickle' on <module 'pandas._libs.tslib\"\u001b[39;00m\n\u001b[1;32m    210\u001b[0m     \u001b[39mreturn\u001b[39;00m pc\u001b[39m.\u001b[39mload(handles\u001b[39m.\u001b[39mhandle, encoding\u001b[39m=\u001b[39m\u001b[39mNone\u001b[39;00m)\n",
      "\u001b[0;31mKeyboardInterrupt\u001b[0m: "
     ]
    }
   ],
   "source": [
    "df = pd.read_pickle('../src/data/Pickles/df.pkl')"
   ]
  },
  {
   "cell_type": "code",
   "execution_count": 36,
   "id": "1cb0e52a",
   "metadata": {},
   "outputs": [],
   "source": [
    "#add column with year\n",
    "df['date'] = pd.to_datetime(df['date'], format='%Y-%m-%d %H:%M:%S')\n",
    "df['year'] = pd.DatetimeIndex(df['date']).year"
   ]
  },
  {
   "cell_type": "code",
   "execution_count": 37,
   "id": "e3ab1f9e",
   "metadata": {},
   "outputs": [
    {
     "data": {
      "text/plain": [
       "(3376775, 24)"
      ]
     },
     "execution_count": 37,
     "metadata": {},
     "output_type": "execute_result"
    }
   ],
   "source": [
    "#check the size of the original dataframe (only restaurants)\n",
    "df.shape"
   ]
  },
  {
   "cell_type": "code",
   "execution_count": 38,
   "id": "2f54a72c",
   "metadata": {},
   "outputs": [
    {
     "data": {
      "text/plain": [
       "(144176, 24)"
      ]
     },
     "execution_count": 38,
     "metadata": {},
     "output_type": "execute_result"
    }
   ],
   "source": [
    "#filter for postal code 70130\n",
    "postal_area = df.loc[df[\"postal_code\"]==\"70130\"]\n",
    "postal_area.shape"
   ]
  },
  {
   "cell_type": "code",
   "execution_count": 39,
   "id": "5593e826",
   "metadata": {},
   "outputs": [
    {
     "data": {
      "text/plain": [
       "(46824, 24)"
      ]
     },
     "execution_count": 39,
     "metadata": {},
     "output_type": "execute_result"
    }
   ],
   "source": [
    "#Keep reviews within interval of max year -3 to -1 (not the most current year, bcs we could use it for comparison purposes).\n",
    "years_businesses = postal_area.groupby('business_id').max('year')\n",
    "chosen_year_1 = years_businesses-1\n",
    "chosen_year_1 = chosen_year_1['year']\n",
    "chosen_year_2 = years_businesses-2\n",
    "chosen_year_2 = chosen_year_2['year']\n",
    "chosen_year_3 = years_businesses-3\n",
    "chosen_year_3 = chosen_year_3['year']\n",
    "\n",
    "year_1 = postal_area.merge(chosen_year_1, on=['business_id', 'year'], how='inner')\n",
    "year_2 = postal_area.merge(chosen_year_2, on=['business_id', 'year'], how='inner')\n",
    "year_3 = postal_area.merge(chosen_year_3, on=['business_id', 'year'], how='inner')\n",
    "year = pd.concat([year_1, year_2, year_3])\n",
    "year.shape"
   ]
  },
  {
   "cell_type": "code",
   "execution_count": 40,
   "id": "04cbfe74",
   "metadata": {},
   "outputs": [
    {
     "name": "stdout",
     "output_type": "stream",
     "text": [
      "Number of remaining businesses:  141\n"
     ]
    },
    {
     "data": {
      "text/plain": [
       "(36766, 24)"
      ]
     },
     "execution_count": 40,
     "metadata": {},
     "output_type": "execute_result"
    }
   ],
   "source": [
    "#get the businesses with at least 100 reviews \n",
    "reviews_businesses = year.groupby('business_id').size()\n",
    "hundred_reviews_businesses = reviews_businesses[reviews_businesses>100]\n",
    "hundred_reviews = year[year[\"business_id\"].isin(hundred_reviews_businesses.index)]\n",
    "\n",
    "print(\"Number of remaining businesses: \", hundred_reviews_businesses.size)\n",
    "hundred_reviews.shape"
   ]
  },
  {
   "cell_type": "code",
   "execution_count": 41,
   "id": "e9540b87",
   "metadata": {},
   "outputs": [
    {
     "data": {
      "text/plain": [
       "(10733, 24)"
      ]
     },
     "execution_count": 41,
     "metadata": {},
     "output_type": "execute_result"
    }
   ],
   "source": [
    "#keep only the reviews that have been upvoted at least once\n",
    "upvoted_reviews = hundred_reviews.loc[hundred_reviews[\"useful_review\"]>=1]\n",
    "upvoted_reviews.shape"
   ]
  },
  {
   "cell_type": "code",
   "execution_count": 42,
   "id": "15bd7dc0",
   "metadata": {},
   "outputs": [],
   "source": [
    "#sort the results by the number of upvotes in the history of the users that gave the review\n",
    "small_df = upvoted_reviews.sort_values(by=\"useful_user\", ascending=False)"
   ]
  },
  {
   "cell_type": "code",
   "execution_count": 43,
   "id": "e4390f76",
   "metadata": {},
   "outputs": [],
   "source": [
    "#Again, pickle the results\n",
    "#small_df.to_pickle('../src/data/Pickles/df_small.pkl')"
   ]
  },
  {
   "cell_type": "markdown",
   "id": "77af8dbc",
   "metadata": {
    "tags": []
   },
   "source": [
    "## 2 -\tMain part\n",
    "The chapters in this part aim for answering the research questions raised above based on the final filtered dataframe (\"df_small\") obtained from the EDA. Preceded is a chapter about text preprocessing and cleaning (\"Normalization\") of the reviews, as this is an essential step for effective text analysis."
   ]
  },
  {
   "cell_type": "markdown",
   "id": "bf424493",
   "metadata": {},
   "source": [
    "## 2.0 - Text preprocessing and cleaning"
   ]
  },
  {
   "cell_type": "markdown",
   "id": "8823a77b",
   "metadata": {},
   "source": [
    "### Data cleaning"
   ]
  },
  {
   "cell_type": "code",
   "execution_count": 5,
   "id": "af0251c4",
   "metadata": {},
   "outputs": [],
   "source": [
    "#Import the dataset and format data\n",
    "df = pd.read_pickle('../src/data/Pickles/clean_df_small.pkl')\n",
    "df['stars_review'] = df['stars_review'].astype(int).astype('category')"
   ]
  },
  {
   "cell_type": "markdown",
   "id": "a47e88be",
   "metadata": {},
   "source": [
    "In the cells below we will perform a cleaning of the text coming from the reviews, standardizing the data, removing stopwords and replacing irrelevant information among others.\n",
    "\n",
    "The data is then cleaned further by removing punctuations, converting to lowercase, remove urls and currency symbols, fix ascii errors and transliterate unicodes to their closest ascii representations, a whirlwind emoji will be translated to \"whirlwind\" written in text. Numbers and digits are removed as they don't add anything in this context, it doesn't make much difference in this case if a review is stating that \"the food was 15 minutes late\" or \"the food was minutes late\".\n",
    "\n",
    "Moreover, lemmatization is applied and is preferred over stemming as it's less prone to errors due to the fact that it takes the context into account. If stemming is applied we could for example end up with situations where \"caring\" is converted into \"car\" rather than \"care\". For some of our algorithms it seemed, however, that using the un-lemmatized text has provided superior results. We therefore create separate columns for the cleaned text, once with and once without lemmatization.\n",
    "\n",
    "The stopwords list is based on the stopwords provided in the lecture, as well as the standard english stopwords. During the course of this project, we also further iterated through the stopwords list to add restaurant specific words that were spilling the data analysis. However, this has proven to be a very difficult task as with every new restaurant/review analysed, the perception of what should be a stopword is continuously changing."
   ]
  },
  {
   "cell_type": "code",
   "execution_count": 6,
   "id": "7a1dd4ff",
   "metadata": {},
   "outputs": [],
   "source": [
    "#First we create a list of stopwords\n",
    "stop_words=get_stopwords('en')\n",
    "f_stop=open(\"../src/data/my_stopwords.txt\")\n",
    "stop_words+=[stopword.strip() for stopword in f_stop.readlines()]"
   ]
  },
  {
   "cell_type": "code",
   "execution_count": 7,
   "id": "3bcd35f2",
   "metadata": {},
   "outputs": [],
   "source": [
    "def text_processing(text):\n",
    "      # I had to name the function \"clean.clean()\" for it to works. \n",
    "      # If it does not work for you like this, re-name it to \"clean()\".\n",
    "    text = clean(text,\n",
    "          fix_unicode=True,  # fix various unicode errors such as emojis or other emotes\n",
    "          to_ascii=True, #Transliterate to closes ASCII representation e.g a whirlwind emoji will be translated to \"whirlwind\" in text.\n",
    "          lower=True, #convert everything to lowercase\n",
    "          no_urls=True, #Remove URLS\n",
    "          no_numbers=True, #Remove all numbers\n",
    "          no_digits=True, #Remove all digits\n",
    "          no_currency_symbols=True, #Remove all currency symbols\n",
    "          no_punct=True, #Remove punctuations\n",
    "          replace_with_punct=\"\", \n",
    "          replace_with_url=\"\", \n",
    "          replace_with_number=\"\", \n",
    "          replace_with_digit=\"\", \n",
    "          replace_with_currency_symbol=\"\",\n",
    "          lang=\"en\") #Language is english, useful for example for \"to_ascii\"\n",
    "\n",
    "    # remove stopwords\n",
    "    text = \" \".join([w for w in text.split() \n",
    "                     if w not in stop_words])\n",
    "    return text"
   ]
  },
  {
   "cell_type": "markdown",
   "id": "d125bf4b",
   "metadata": {},
   "source": [
    "**Note: to perform part of the data cleaning, the clean-text package is used, which has some functions that help to optimize the code of this task. Note that the package installed for the correct operation must be \"clean-text\" and not \"clean\" and if an error is generated when executing the code, try changing \"clean.clean\" for \"clean\".**"
   ]
  },
  {
   "cell_type": "code",
   "execution_count": 8,
   "id": "cd3dd28d",
   "metadata": {},
   "outputs": [
    {
     "ename": "KeyboardInterrupt",
     "evalue": "",
     "output_type": "error",
     "traceback": [
      "\u001b[0;31m---------------------------------------------------------------------------\u001b[0m",
      "\u001b[0;31mKeyboardInterrupt\u001b[0m                         Traceback (most recent call last)",
      "\u001b[1;32m/Users/borisllonaalonso/Documents/DTU/ML Ops/Project/mlops-project/notebooks/YalpReviewsFGSentimentAnalysis.ipynb Cell 45\u001b[0m in \u001b[0;36m<cell line: 2>\u001b[0;34m()\u001b[0m\n\u001b[1;32m      <a href='vscode-notebook-cell:/Users/borisllonaalonso/Documents/DTU/ML%20Ops/Project/mlops-project/notebooks/YalpReviewsFGSentimentAnalysis.ipynb#X62sZmlsZQ%3D%3D?line=0'>1</a>\u001b[0m df[\u001b[39m'\u001b[39m\u001b[39mtext_clean\u001b[39m\u001b[39m'\u001b[39m] \u001b[39m=\u001b[39m df[\u001b[39m'\u001b[39m\u001b[39mtext\u001b[39m\u001b[39m'\u001b[39m]\n\u001b[0;32m----> <a href='vscode-notebook-cell:/Users/borisllonaalonso/Documents/DTU/ML%20Ops/Project/mlops-project/notebooks/YalpReviewsFGSentimentAnalysis.ipynb#X62sZmlsZQ%3D%3D?line=1'>2</a>\u001b[0m df[\u001b[39m'\u001b[39m\u001b[39mtext_clean\u001b[39m\u001b[39m'\u001b[39m] \u001b[39m=\u001b[39m df[\u001b[39m'\u001b[39;49m\u001b[39mtext_clean\u001b[39;49m\u001b[39m'\u001b[39;49m]\u001b[39m.\u001b[39;49mapply(\u001b[39mlambda\u001b[39;49;00m x: text_processing(x))\n",
      "File \u001b[0;32m~/opt/anaconda3/lib/python3.9/site-packages/pandas/core/series.py:4433\u001b[0m, in \u001b[0;36mSeries.apply\u001b[0;34m(self, func, convert_dtype, args, **kwargs)\u001b[0m\n\u001b[1;32m   4323\u001b[0m \u001b[39mdef\u001b[39;00m \u001b[39mapply\u001b[39m(\n\u001b[1;32m   4324\u001b[0m     \u001b[39mself\u001b[39m,\n\u001b[1;32m   4325\u001b[0m     func: AggFuncType,\n\u001b[0;32m   (...)\u001b[0m\n\u001b[1;32m   4328\u001b[0m     \u001b[39m*\u001b[39m\u001b[39m*\u001b[39mkwargs,\n\u001b[1;32m   4329\u001b[0m ) \u001b[39m-\u001b[39m\u001b[39m>\u001b[39m DataFrame \u001b[39m|\u001b[39m Series:\n\u001b[1;32m   4330\u001b[0m     \u001b[39m\"\"\"\u001b[39;00m\n\u001b[1;32m   4331\u001b[0m \u001b[39m    Invoke function on values of Series.\u001b[39;00m\n\u001b[1;32m   4332\u001b[0m \n\u001b[0;32m   (...)\u001b[0m\n\u001b[1;32m   4431\u001b[0m \u001b[39m    dtype: float64\u001b[39;00m\n\u001b[1;32m   4432\u001b[0m \u001b[39m    \"\"\"\u001b[39;00m\n\u001b[0;32m-> 4433\u001b[0m     \u001b[39mreturn\u001b[39;00m SeriesApply(\u001b[39mself\u001b[39;49m, func, convert_dtype, args, kwargs)\u001b[39m.\u001b[39;49mapply()\n",
      "File \u001b[0;32m~/opt/anaconda3/lib/python3.9/site-packages/pandas/core/apply.py:1082\u001b[0m, in \u001b[0;36mSeriesApply.apply\u001b[0;34m(self)\u001b[0m\n\u001b[1;32m   1078\u001b[0m \u001b[39mif\u001b[39;00m \u001b[39misinstance\u001b[39m(\u001b[39mself\u001b[39m\u001b[39m.\u001b[39mf, \u001b[39mstr\u001b[39m):\n\u001b[1;32m   1079\u001b[0m     \u001b[39m# if we are a string, try to dispatch\u001b[39;00m\n\u001b[1;32m   1080\u001b[0m     \u001b[39mreturn\u001b[39;00m \u001b[39mself\u001b[39m\u001b[39m.\u001b[39mapply_str()\n\u001b[0;32m-> 1082\u001b[0m \u001b[39mreturn\u001b[39;00m \u001b[39mself\u001b[39;49m\u001b[39m.\u001b[39;49mapply_standard()\n",
      "File \u001b[0;32m~/opt/anaconda3/lib/python3.9/site-packages/pandas/core/apply.py:1137\u001b[0m, in \u001b[0;36mSeriesApply.apply_standard\u001b[0;34m(self)\u001b[0m\n\u001b[1;32m   1131\u001b[0m         values \u001b[39m=\u001b[39m obj\u001b[39m.\u001b[39mastype(\u001b[39mobject\u001b[39m)\u001b[39m.\u001b[39m_values\n\u001b[1;32m   1132\u001b[0m         \u001b[39m# error: Argument 2 to \"map_infer\" has incompatible type\u001b[39;00m\n\u001b[1;32m   1133\u001b[0m         \u001b[39m# \"Union[Callable[..., Any], str, List[Union[Callable[..., Any], str]],\u001b[39;00m\n\u001b[1;32m   1134\u001b[0m         \u001b[39m# Dict[Hashable, Union[Union[Callable[..., Any], str],\u001b[39;00m\n\u001b[1;32m   1135\u001b[0m         \u001b[39m# List[Union[Callable[..., Any], str]]]]]\"; expected\u001b[39;00m\n\u001b[1;32m   1136\u001b[0m         \u001b[39m# \"Callable[[Any], Any]\"\u001b[39;00m\n\u001b[0;32m-> 1137\u001b[0m         mapped \u001b[39m=\u001b[39m lib\u001b[39m.\u001b[39;49mmap_infer(\n\u001b[1;32m   1138\u001b[0m             values,\n\u001b[1;32m   1139\u001b[0m             f,  \u001b[39m# type: ignore[arg-type]\u001b[39;49;00m\n\u001b[1;32m   1140\u001b[0m             convert\u001b[39m=\u001b[39;49m\u001b[39mself\u001b[39;49m\u001b[39m.\u001b[39;49mconvert_dtype,\n\u001b[1;32m   1141\u001b[0m         )\n\u001b[1;32m   1143\u001b[0m \u001b[39mif\u001b[39;00m \u001b[39mlen\u001b[39m(mapped) \u001b[39mand\u001b[39;00m \u001b[39misinstance\u001b[39m(mapped[\u001b[39m0\u001b[39m], ABCSeries):\n\u001b[1;32m   1144\u001b[0m     \u001b[39m# GH#43986 Need to do list(mapped) in order to get treated as nested\u001b[39;00m\n\u001b[1;32m   1145\u001b[0m     \u001b[39m#  See also GH#25959 regarding EA support\u001b[39;00m\n\u001b[1;32m   1146\u001b[0m     \u001b[39mreturn\u001b[39;00m obj\u001b[39m.\u001b[39m_constructor_expanddim(\u001b[39mlist\u001b[39m(mapped), index\u001b[39m=\u001b[39mobj\u001b[39m.\u001b[39mindex)\n",
      "File \u001b[0;32m~/opt/anaconda3/lib/python3.9/site-packages/pandas/_libs/lib.pyx:2870\u001b[0m, in \u001b[0;36mpandas._libs.lib.map_infer\u001b[0;34m()\u001b[0m\n",
      "\u001b[1;32m/Users/borisllonaalonso/Documents/DTU/ML Ops/Project/mlops-project/notebooks/YalpReviewsFGSentimentAnalysis.ipynb Cell 45\u001b[0m in \u001b[0;36m<lambda>\u001b[0;34m(x)\u001b[0m\n\u001b[1;32m      <a href='vscode-notebook-cell:/Users/borisllonaalonso/Documents/DTU/ML%20Ops/Project/mlops-project/notebooks/YalpReviewsFGSentimentAnalysis.ipynb#X62sZmlsZQ%3D%3D?line=0'>1</a>\u001b[0m df[\u001b[39m'\u001b[39m\u001b[39mtext_clean\u001b[39m\u001b[39m'\u001b[39m] \u001b[39m=\u001b[39m df[\u001b[39m'\u001b[39m\u001b[39mtext\u001b[39m\u001b[39m'\u001b[39m]\n\u001b[0;32m----> <a href='vscode-notebook-cell:/Users/borisllonaalonso/Documents/DTU/ML%20Ops/Project/mlops-project/notebooks/YalpReviewsFGSentimentAnalysis.ipynb#X62sZmlsZQ%3D%3D?line=1'>2</a>\u001b[0m df[\u001b[39m'\u001b[39m\u001b[39mtext_clean\u001b[39m\u001b[39m'\u001b[39m] \u001b[39m=\u001b[39m df[\u001b[39m'\u001b[39m\u001b[39mtext_clean\u001b[39m\u001b[39m'\u001b[39m]\u001b[39m.\u001b[39mapply(\u001b[39mlambda\u001b[39;00m x: text_processing(x))\n",
      "\u001b[1;32m/Users/borisllonaalonso/Documents/DTU/ML Ops/Project/mlops-project/notebooks/YalpReviewsFGSentimentAnalysis.ipynb Cell 45\u001b[0m in \u001b[0;36mtext_processing\u001b[0;34m(text)\u001b[0m\n\u001b[1;32m      <a href='vscode-notebook-cell:/Users/borisllonaalonso/Documents/DTU/ML%20Ops/Project/mlops-project/notebooks/YalpReviewsFGSentimentAnalysis.ipynb#X62sZmlsZQ%3D%3D?line=3'>4</a>\u001b[0m text \u001b[39m=\u001b[39m clean(text,\n\u001b[1;32m      <a href='vscode-notebook-cell:/Users/borisllonaalonso/Documents/DTU/ML%20Ops/Project/mlops-project/notebooks/YalpReviewsFGSentimentAnalysis.ipynb#X62sZmlsZQ%3D%3D?line=4'>5</a>\u001b[0m       fix_unicode\u001b[39m=\u001b[39m\u001b[39mTrue\u001b[39;00m,  \u001b[39m# fix various unicode errors such as emojis or other emotes\u001b[39;00m\n\u001b[1;32m      <a href='vscode-notebook-cell:/Users/borisllonaalonso/Documents/DTU/ML%20Ops/Project/mlops-project/notebooks/YalpReviewsFGSentimentAnalysis.ipynb#X62sZmlsZQ%3D%3D?line=5'>6</a>\u001b[0m       to_ascii\u001b[39m=\u001b[39m\u001b[39mTrue\u001b[39;00m, \u001b[39m#Transliterate to closes ASCII representation e.g a whirlwind emoji will be translated to \"whirlwind\" in text.\u001b[39;00m\n\u001b[0;32m   (...)\u001b[0m\n\u001b[1;32m     <a href='vscode-notebook-cell:/Users/borisllonaalonso/Documents/DTU/ML%20Ops/Project/mlops-project/notebooks/YalpReviewsFGSentimentAnalysis.ipynb#X62sZmlsZQ%3D%3D?line=16'>17</a>\u001b[0m       replace_with_currency_symbol\u001b[39m=\u001b[39m\u001b[39m\"\u001b[39m\u001b[39m\"\u001b[39m,\n\u001b[1;32m     <a href='vscode-notebook-cell:/Users/borisllonaalonso/Documents/DTU/ML%20Ops/Project/mlops-project/notebooks/YalpReviewsFGSentimentAnalysis.ipynb#X62sZmlsZQ%3D%3D?line=17'>18</a>\u001b[0m       lang\u001b[39m=\u001b[39m\u001b[39m\"\u001b[39m\u001b[39men\u001b[39m\u001b[39m\"\u001b[39m) \u001b[39m#Language is english, useful for example for \"to_ascii\"\u001b[39;00m\n\u001b[1;32m     <a href='vscode-notebook-cell:/Users/borisllonaalonso/Documents/DTU/ML%20Ops/Project/mlops-project/notebooks/YalpReviewsFGSentimentAnalysis.ipynb#X62sZmlsZQ%3D%3D?line=19'>20</a>\u001b[0m \u001b[39m# remove stopwords\u001b[39;00m\n\u001b[0;32m---> <a href='vscode-notebook-cell:/Users/borisllonaalonso/Documents/DTU/ML%20Ops/Project/mlops-project/notebooks/YalpReviewsFGSentimentAnalysis.ipynb#X62sZmlsZQ%3D%3D?line=20'>21</a>\u001b[0m text \u001b[39m=\u001b[39m \u001b[39m\"\u001b[39m\u001b[39m \u001b[39m\u001b[39m\"\u001b[39m\u001b[39m.\u001b[39mjoin([w \u001b[39mfor\u001b[39;00m w \u001b[39min\u001b[39;00m text\u001b[39m.\u001b[39msplit() \n\u001b[1;32m     <a href='vscode-notebook-cell:/Users/borisllonaalonso/Documents/DTU/ML%20Ops/Project/mlops-project/notebooks/YalpReviewsFGSentimentAnalysis.ipynb#X62sZmlsZQ%3D%3D?line=21'>22</a>\u001b[0m                  \u001b[39mif\u001b[39;00m w \u001b[39mnot\u001b[39;00m \u001b[39min\u001b[39;00m stop_words])\n\u001b[1;32m     <a href='vscode-notebook-cell:/Users/borisllonaalonso/Documents/DTU/ML%20Ops/Project/mlops-project/notebooks/YalpReviewsFGSentimentAnalysis.ipynb#X62sZmlsZQ%3D%3D?line=22'>23</a>\u001b[0m \u001b[39mreturn\u001b[39;00m text\n",
      "\u001b[1;32m/Users/borisllonaalonso/Documents/DTU/ML Ops/Project/mlops-project/notebooks/YalpReviewsFGSentimentAnalysis.ipynb Cell 45\u001b[0m in \u001b[0;36m<listcomp>\u001b[0;34m(.0)\u001b[0m\n\u001b[1;32m      <a href='vscode-notebook-cell:/Users/borisllonaalonso/Documents/DTU/ML%20Ops/Project/mlops-project/notebooks/YalpReviewsFGSentimentAnalysis.ipynb#X62sZmlsZQ%3D%3D?line=3'>4</a>\u001b[0m text \u001b[39m=\u001b[39m clean(text,\n\u001b[1;32m      <a href='vscode-notebook-cell:/Users/borisllonaalonso/Documents/DTU/ML%20Ops/Project/mlops-project/notebooks/YalpReviewsFGSentimentAnalysis.ipynb#X62sZmlsZQ%3D%3D?line=4'>5</a>\u001b[0m       fix_unicode\u001b[39m=\u001b[39m\u001b[39mTrue\u001b[39;00m,  \u001b[39m# fix various unicode errors such as emojis or other emotes\u001b[39;00m\n\u001b[1;32m      <a href='vscode-notebook-cell:/Users/borisllonaalonso/Documents/DTU/ML%20Ops/Project/mlops-project/notebooks/YalpReviewsFGSentimentAnalysis.ipynb#X62sZmlsZQ%3D%3D?line=5'>6</a>\u001b[0m       to_ascii\u001b[39m=\u001b[39m\u001b[39mTrue\u001b[39;00m, \u001b[39m#Transliterate to closes ASCII representation e.g a whirlwind emoji will be translated to \"whirlwind\" in text.\u001b[39;00m\n\u001b[0;32m   (...)\u001b[0m\n\u001b[1;32m     <a href='vscode-notebook-cell:/Users/borisllonaalonso/Documents/DTU/ML%20Ops/Project/mlops-project/notebooks/YalpReviewsFGSentimentAnalysis.ipynb#X62sZmlsZQ%3D%3D?line=16'>17</a>\u001b[0m       replace_with_currency_symbol\u001b[39m=\u001b[39m\u001b[39m\"\u001b[39m\u001b[39m\"\u001b[39m,\n\u001b[1;32m     <a href='vscode-notebook-cell:/Users/borisllonaalonso/Documents/DTU/ML%20Ops/Project/mlops-project/notebooks/YalpReviewsFGSentimentAnalysis.ipynb#X62sZmlsZQ%3D%3D?line=17'>18</a>\u001b[0m       lang\u001b[39m=\u001b[39m\u001b[39m\"\u001b[39m\u001b[39men\u001b[39m\u001b[39m\"\u001b[39m) \u001b[39m#Language is english, useful for example for \"to_ascii\"\u001b[39;00m\n\u001b[1;32m     <a href='vscode-notebook-cell:/Users/borisllonaalonso/Documents/DTU/ML%20Ops/Project/mlops-project/notebooks/YalpReviewsFGSentimentAnalysis.ipynb#X62sZmlsZQ%3D%3D?line=19'>20</a>\u001b[0m \u001b[39m# remove stopwords\u001b[39;00m\n\u001b[0;32m---> <a href='vscode-notebook-cell:/Users/borisllonaalonso/Documents/DTU/ML%20Ops/Project/mlops-project/notebooks/YalpReviewsFGSentimentAnalysis.ipynb#X62sZmlsZQ%3D%3D?line=20'>21</a>\u001b[0m text \u001b[39m=\u001b[39m \u001b[39m\"\u001b[39m\u001b[39m \u001b[39m\u001b[39m\"\u001b[39m\u001b[39m.\u001b[39mjoin([w \u001b[39mfor\u001b[39;00m w \u001b[39min\u001b[39;00m text\u001b[39m.\u001b[39msplit() \n\u001b[1;32m     <a href='vscode-notebook-cell:/Users/borisllonaalonso/Documents/DTU/ML%20Ops/Project/mlops-project/notebooks/YalpReviewsFGSentimentAnalysis.ipynb#X62sZmlsZQ%3D%3D?line=21'>22</a>\u001b[0m                  \u001b[39mif\u001b[39;00m w \u001b[39mnot\u001b[39;00m \u001b[39min\u001b[39;00m stop_words])\n\u001b[1;32m     <a href='vscode-notebook-cell:/Users/borisllonaalonso/Documents/DTU/ML%20Ops/Project/mlops-project/notebooks/YalpReviewsFGSentimentAnalysis.ipynb#X62sZmlsZQ%3D%3D?line=22'>23</a>\u001b[0m \u001b[39mreturn\u001b[39;00m text\n",
      "\u001b[0;31mKeyboardInterrupt\u001b[0m: "
     ]
    }
   ],
   "source": [
    "df['text_clean'] = df['text']\n",
    "df['text_clean'] = df['text_clean'].apply(lambda x: text_processing(x))"
   ]
  },
  {
   "cell_type": "code",
   "execution_count": null,
   "id": "eb3b9b5d",
   "metadata": {},
   "outputs": [],
   "source": [
    "#apply lemmatization\n",
    "def lemmatize(pandas_col):\n",
    "    return ' '.join([lemmatizer.lemmatize(w) for w in nltk.word_tokenize(pandas_col)])\n",
    "df['text_clean_lemma'] = df['text_clean']\n",
    "df['text_clean_lemma'] = df['text_clean'].apply(lambda x: lemmatize(x))"
   ]
  },
  {
   "cell_type": "code",
   "execution_count": 49,
   "id": "47eb5152",
   "metadata": {},
   "outputs": [],
   "source": [
    "#df.to_pickle('Yelp pickles\\clean_df_small.pkl')"
   ]
  },
  {
   "cell_type": "code",
   "execution_count": 9,
   "id": "3ae93c76",
   "metadata": {},
   "outputs": [],
   "source": [
    "#Import the dataset\n",
    "df = pd.read_pickle('../src/data/Pickles/clean_df_small.pkl')"
   ]
  },
  {
   "cell_type": "code",
   "execution_count": 10,
   "id": "c8940d2f",
   "metadata": {},
   "outputs": [
    {
     "data": {
      "text/html": [
       "<div>\n",
       "<style scoped>\n",
       "    .dataframe tbody tr th:only-of-type {\n",
       "        vertical-align: middle;\n",
       "    }\n",
       "\n",
       "    .dataframe tbody tr th {\n",
       "        vertical-align: top;\n",
       "    }\n",
       "\n",
       "    .dataframe thead th {\n",
       "        text-align: right;\n",
       "    }\n",
       "</style>\n",
       "<table border=\"1\" class=\"dataframe\">\n",
       "  <thead>\n",
       "    <tr style=\"text-align: right;\">\n",
       "      <th></th>\n",
       "      <th>review_id</th>\n",
       "      <th>user_id</th>\n",
       "      <th>business_id</th>\n",
       "      <th>stars_review</th>\n",
       "      <th>useful_review</th>\n",
       "      <th>funny_review</th>\n",
       "      <th>cool_review</th>\n",
       "      <th>text</th>\n",
       "      <th>date</th>\n",
       "      <th>name_review</th>\n",
       "      <th>...</th>\n",
       "      <th>name_business</th>\n",
       "      <th>city</th>\n",
       "      <th>state</th>\n",
       "      <th>postal_code</th>\n",
       "      <th>stars_business</th>\n",
       "      <th>review_count_business</th>\n",
       "      <th>attributes</th>\n",
       "      <th>categories</th>\n",
       "      <th>year</th>\n",
       "      <th>text_clean</th>\n",
       "    </tr>\n",
       "  </thead>\n",
       "  <tbody>\n",
       "    <tr>\n",
       "      <th>9211</th>\n",
       "      <td>8eqUW6mnZ0FYcjpL_6VF7w</td>\n",
       "      <td>Hi10sGSZNxQH3NLyWSZ1oA</td>\n",
       "      <td>yE6aDcbbK8pmvNroXnQYQA</td>\n",
       "      <td>4</td>\n",
       "      <td>20</td>\n",
       "      <td>13</td>\n",
       "      <td>19</td>\n",
       "      <td>Now that corona is on us\\nAnd we hope the extr...</td>\n",
       "      <td>2020-07-19 23:18:10</td>\n",
       "      <td>Fox</td>\n",
       "      <td>...</td>\n",
       "      <td>Majoria's Commerce Restaurant</td>\n",
       "      <td>New Orleans</td>\n",
       "      <td>LA</td>\n",
       "      <td>70130</td>\n",
       "      <td>4.5</td>\n",
       "      <td>866</td>\n",
       "      <td>{'RestaurantsAttire': 'u'casual'', 'Restaurant...</td>\n",
       "      <td>Diners, Sandwiches, Restaurants, Breakfast &amp; B...</td>\n",
       "      <td>2020</td>\n",
       "      <td>now corona us hope extreme right wont bomb us ...</td>\n",
       "    </tr>\n",
       "    <tr>\n",
       "      <th>6342</th>\n",
       "      <td>VY6AdwdPnfwhZ8BwMokH1w</td>\n",
       "      <td>hWDybu_KvYLSdEFzGrniTw</td>\n",
       "      <td>ku8cAVBLaF_4rI-yK6gNnQ</td>\n",
       "      <td>5</td>\n",
       "      <td>18</td>\n",
       "      <td>10</td>\n",
       "      <td>16</td>\n",
       "      <td>Five stars for the lovely Brittney who made ou...</td>\n",
       "      <td>2020-10-19 15:02:09</td>\n",
       "      <td>Bruce</td>\n",
       "      <td>...</td>\n",
       "      <td>Brennan's</td>\n",
       "      <td>New Orleans</td>\n",
       "      <td>LA</td>\n",
       "      <td>70130</td>\n",
       "      <td>4.0</td>\n",
       "      <td>1598</td>\n",
       "      <td>{'BusinessAcceptsCreditCards': 'True', 'Restau...</td>\n",
       "      <td>Cajun/Creole, Restaurants</td>\n",
       "      <td>2020</td>\n",
       "      <td>five stars lovely brittney made bananas foster...</td>\n",
       "    </tr>\n",
       "    <tr>\n",
       "      <th>6451</th>\n",
       "      <td>zpDo1qrEYC6G8YlK1vUaDg</td>\n",
       "      <td>hWDybu_KvYLSdEFzGrniTw</td>\n",
       "      <td>iSRTaT9WngzB8JJ2YKJUig</td>\n",
       "      <td>5</td>\n",
       "      <td>22</td>\n",
       "      <td>13</td>\n",
       "      <td>19</td>\n",
       "      <td>I usually write my reviews in the order I visi...</td>\n",
       "      <td>2020-10-19 13:33:05</td>\n",
       "      <td>Bruce</td>\n",
       "      <td>...</td>\n",
       "      <td>Mother's Restaurant</td>\n",
       "      <td>New Orleans</td>\n",
       "      <td>LA</td>\n",
       "      <td>70130</td>\n",
       "      <td>3.5</td>\n",
       "      <td>5185</td>\n",
       "      <td>{'RestaurantsGoodForGroups': 'True', 'BYOBCork...</td>\n",
       "      <td>Cajun/Creole, Restaurants, Event Planning &amp; Se...</td>\n",
       "      <td>2020</td>\n",
       "      <td>usually write reviews order visit business som...</td>\n",
       "    </tr>\n",
       "    <tr>\n",
       "      <th>5059</th>\n",
       "      <td>C4Sv_LbycqWNwWH4iWUdwg</td>\n",
       "      <td>Hm0diOkWwpo9zotlJlqMUQ</td>\n",
       "      <td>H41S-qS3NOUJSbIqWTuyIA</td>\n",
       "      <td>4</td>\n",
       "      <td>61</td>\n",
       "      <td>27</td>\n",
       "      <td>53</td>\n",
       "      <td>This cruise is pure New Orleans!\\n\\nWe used ou...</td>\n",
       "      <td>2020-03-08 19:17:44</td>\n",
       "      <td>May</td>\n",
       "      <td>...</td>\n",
       "      <td>Paddlewheeler Creole Queen</td>\n",
       "      <td>New Orleans</td>\n",
       "      <td>LA</td>\n",
       "      <td>70130</td>\n",
       "      <td>4.0</td>\n",
       "      <td>713</td>\n",
       "      <td>{'WiFi': ''no'', 'GoodForKids': 'True', 'Resta...</td>\n",
       "      <td>Hotels &amp; Travel, Cajun/Creole, Boat Charters, ...</td>\n",
       "      <td>2020</td>\n",
       "      <td>cruise pure new orleans used city pass ride ab...</td>\n",
       "    </tr>\n",
       "    <tr>\n",
       "      <th>1305</th>\n",
       "      <td>dM-QT9s9mfqlXJCOI9LJlw</td>\n",
       "      <td>Hm0diOkWwpo9zotlJlqMUQ</td>\n",
       "      <td>I6L0Zxi5Ww0zEWSAVgngeQ</td>\n",
       "      <td>4</td>\n",
       "      <td>56</td>\n",
       "      <td>25</td>\n",
       "      <td>54</td>\n",
       "      <td>It's beignet a while... Nice outdoor-style caf...</td>\n",
       "      <td>2020-03-12 01:42:05</td>\n",
       "      <td>May</td>\n",
       "      <td>...</td>\n",
       "      <td>Cafe Beignet on Bourbon Street</td>\n",
       "      <td>New Orleans</td>\n",
       "      <td>LA</td>\n",
       "      <td>70130</td>\n",
       "      <td>3.5</td>\n",
       "      <td>1066</td>\n",
       "      <td>{'GoodForKids': 'True', 'OutdoorSeating': 'Tru...</td>\n",
       "      <td>Sandwiches, Breakfast &amp; Brunch, Cajun/Creole, ...</td>\n",
       "      <td>2020</td>\n",
       "      <td>beignet nice outdoorstyle cafe amazing beignet...</td>\n",
       "    </tr>\n",
       "  </tbody>\n",
       "</table>\n",
       "<p>5 rows × 25 columns</p>\n",
       "</div>"
      ],
      "text/plain": [
       "                   review_id                 user_id             business_id  \\\n",
       "9211  8eqUW6mnZ0FYcjpL_6VF7w  Hi10sGSZNxQH3NLyWSZ1oA  yE6aDcbbK8pmvNroXnQYQA   \n",
       "6342  VY6AdwdPnfwhZ8BwMokH1w  hWDybu_KvYLSdEFzGrniTw  ku8cAVBLaF_4rI-yK6gNnQ   \n",
       "6451  zpDo1qrEYC6G8YlK1vUaDg  hWDybu_KvYLSdEFzGrniTw  iSRTaT9WngzB8JJ2YKJUig   \n",
       "5059  C4Sv_LbycqWNwWH4iWUdwg  Hm0diOkWwpo9zotlJlqMUQ  H41S-qS3NOUJSbIqWTuyIA   \n",
       "1305  dM-QT9s9mfqlXJCOI9LJlw  Hm0diOkWwpo9zotlJlqMUQ  I6L0Zxi5Ww0zEWSAVgngeQ   \n",
       "\n",
       "     stars_review  useful_review  funny_review  cool_review  \\\n",
       "9211            4             20            13           19   \n",
       "6342            5             18            10           16   \n",
       "6451            5             22            13           19   \n",
       "5059            4             61            27           53   \n",
       "1305            4             56            25           54   \n",
       "\n",
       "                                                   text                date  \\\n",
       "9211  Now that corona is on us\\nAnd we hope the extr... 2020-07-19 23:18:10   \n",
       "6342  Five stars for the lovely Brittney who made ou... 2020-10-19 15:02:09   \n",
       "6451  I usually write my reviews in the order I visi... 2020-10-19 13:33:05   \n",
       "5059  This cruise is pure New Orleans!\\n\\nWe used ou... 2020-03-08 19:17:44   \n",
       "1305  It's beignet a while... Nice outdoor-style caf... 2020-03-12 01:42:05   \n",
       "\n",
       "     name_review  ...                   name_business         city  state  \\\n",
       "9211         Fox  ...   Majoria's Commerce Restaurant  New Orleans     LA   \n",
       "6342       Bruce  ...                       Brennan's  New Orleans     LA   \n",
       "6451       Bruce  ...             Mother's Restaurant  New Orleans     LA   \n",
       "5059         May  ...      Paddlewheeler Creole Queen  New Orleans     LA   \n",
       "1305         May  ...  Cafe Beignet on Bourbon Street  New Orleans     LA   \n",
       "\n",
       "      postal_code  stars_business review_count_business  \\\n",
       "9211        70130             4.5                   866   \n",
       "6342        70130             4.0                  1598   \n",
       "6451        70130             3.5                  5185   \n",
       "5059        70130             4.0                   713   \n",
       "1305        70130             3.5                  1066   \n",
       "\n",
       "                                             attributes  \\\n",
       "9211  {'RestaurantsAttire': 'u'casual'', 'Restaurant...   \n",
       "6342  {'BusinessAcceptsCreditCards': 'True', 'Restau...   \n",
       "6451  {'RestaurantsGoodForGroups': 'True', 'BYOBCork...   \n",
       "5059  {'WiFi': ''no'', 'GoodForKids': 'True', 'Resta...   \n",
       "1305  {'GoodForKids': 'True', 'OutdoorSeating': 'Tru...   \n",
       "\n",
       "                                             categories  year  \\\n",
       "9211  Diners, Sandwiches, Restaurants, Breakfast & B...  2020   \n",
       "6342                          Cajun/Creole, Restaurants  2020   \n",
       "6451  Cajun/Creole, Restaurants, Event Planning & Se...  2020   \n",
       "5059  Hotels & Travel, Cajun/Creole, Boat Charters, ...  2020   \n",
       "1305  Sandwiches, Breakfast & Brunch, Cajun/Creole, ...  2020   \n",
       "\n",
       "                                             text_clean  \n",
       "9211  now corona us hope extreme right wont bomb us ...  \n",
       "6342  five stars lovely brittney made bananas foster...  \n",
       "6451  usually write reviews order visit business som...  \n",
       "5059  cruise pure new orleans used city pass ride ab...  \n",
       "1305  beignet nice outdoorstyle cafe amazing beignet...  \n",
       "\n",
       "[5 rows x 25 columns]"
      ]
     },
     "execution_count": 10,
     "metadata": {},
     "output_type": "execute_result"
    }
   ],
   "source": [
    "df.head()"
   ]
  },
  {
   "cell_type": "code",
   "execution_count": 11,
   "id": "554d36b6",
   "metadata": {},
   "outputs": [
    {
     "data": {
      "text/plain": [
       "Text(0, 0.5, 'Number of reviews')"
      ]
     },
     "execution_count": 11,
     "metadata": {},
     "output_type": "execute_result"
    },
    {
     "data": {
      "image/png": "[encoded data removed]",
      "text/plain": [
       "<Figure size 864x360 with 2 Axes>"
      ]
     },
     "metadata": {},
     "output_type": "display_data"
    }
   ],
   "source": [
    "fig, axes = plt.subplots(1,2,figsize=(12,5))\n",
    "\n",
    "sns.barplot(ax=axes[0], x=df.stars_review.value_counts().index, y=df.stars_review.value_counts())\n",
    "axes[0].tick_params(axis='x')\n",
    "axes[0].set_title(\"Number of samples per category\")\n",
    "axes[0].set_xlabel('Stars')\n",
    "axes[0].set_ylabel('Number of reviews')\n",
    "\n",
    "#Sample the same amount of reviews from each category\n",
    "df = df.groupby('stars_review').apply(lambda x: x.sample(800, random_state=42)).reset_index(drop=True)\n",
    "\n",
    "#Used to shuffle the samples\n",
    "df = df.sample(frac=1, random_state=42).reset_index(drop=True)\n",
    "\n",
    "sns.barplot(ax=axes[1], x=df.stars_review.value_counts().index, y=df.stars_review.value_counts())\n",
    "axes[1].tick_params(axis='x')\n",
    "axes[1].set_title(\"Number of samples per category after random sampling\")\n",
    "axes[1].set_xlabel('Stars')\n",
    "axes[1].set_ylabel('Number of reviews')"
   ]
  },
  {
   "cell_type": "code",
   "execution_count": 12,
   "id": "cfadaefd",
   "metadata": {},
   "outputs": [],
   "source": [
    "# Map stars from 0-4 to reduce errors\n",
    "df['stars_review'] = df['stars_review'].apply(lambda x: x-1)"
   ]
  },
  {
   "cell_type": "markdown",
   "id": "705ce9a9",
   "metadata": {},
   "source": [
    "### Data processing"
   ]
  },
  {
   "cell_type": "code",
   "execution_count": 36,
   "id": "13dbb9b6",
   "metadata": {},
   "outputs": [
    {
     "name": "stdout",
     "output_type": "stream",
     "text": [
      "Review: Super tasty pizzas and unbeatable quality-price for Denmark, very friendly staff, I would repeat without hesitation!\n",
      "\n",
      " Tokens: ['Super', 'ta', '##sty', 'pizza', '##s', 'and', 'un', '##beat', '##able', 'quality', '-', 'price', 'for', 'Denmark', ',', 'very', 'friendly', 'staff', ',', 'I', 'would', 'repeat', 'without', 'hesitation', '!']\n",
      " Token IDS: [3198, 27629, 13913, 13473, 1116, 1105, 8362, 14262, 1895, 3068, 118, 3945, 1111, 5140, 117, 1304, 4931, 2546, 117, 146, 1156, 9488, 1443, 13941, 106]\n"
     ]
    }
   ],
   "source": [
    "tokenizer = BertTokenizer.from_pretrained('bert-base-cased')\n",
    "\n",
    "sample_txt = 'Super tasty pizzas and unbeatable quality-price for Denmark, very friendly staff, I would repeat without hesitation!'\n",
    "\n",
    "tokens = tokenizer.tokenize(sample_txt)\n",
    "token_ids = tokenizer.convert_tokens_to_ids(tokens)\n",
    "\n",
    "print(\"Review: \"+sample_txt+'\\n')\n",
    "print(\" Tokens: \"+str(tokens))\n",
    "print(\" Token IDS: \"+str(token_ids))"
   ]
  },
  {
   "cell_type": "code",
   "execution_count": 37,
   "id": "a2ddc088",
   "metadata": {},
   "outputs": [
    {
     "name": "stdout",
     "output_type": "stream",
     "text": [
      "Train: (3200, 25), Test: (400, 25) Val: (400, 25)\n"
     ]
    }
   ],
   "source": [
    "BATCH_SIZE = 16\n",
    "MAX_LEN = 140\n",
    "\n",
    "train, test = train_test_split(df, test_size=0.2)\n",
    "val, test = train_test_split(test, test_size=0.5)\n",
    "\n",
    "print(\"Train: {}, Test: {} Val: {}\".format(train.shape, test.shape, val.shape))"
   ]
  },
  {
   "cell_type": "code",
   "execution_count": 38,
   "id": "bb60186d",
   "metadata": {},
   "outputs": [],
   "source": [
    "class GenDataset(Dataset):\n",
    "\n",
    "  def __init__(self, text, stars_review):\n",
    "    self.text = text\n",
    "    self.stars_review = stars_review\n",
    "    self.tokenizer = BertTokenizer.from_pretrained('bert-base-cased')\n",
    "    self.max_len = MAX_LEN\n",
    "  \n",
    "  def __len__(self):\n",
    "    return len(self.text)\n",
    "  \n",
    "  def __getitem__(self, item):\n",
    "    text = str(self.text[item])\n",
    "    star = self.stars_review[item]\n",
    "\n",
    "    encoding = self.tokenizer.encode_plus(\n",
    "      text,\n",
    "      add_special_tokens=True,\n",
    "      max_length=self.max_len,\n",
    "      return_token_type_ids=False,\n",
    "      pad_to_max_length=True,\n",
    "      return_attention_mask=True,\n",
    "      return_tensors='pt',\n",
    "    )\n",
    "\n",
    "    return {\n",
    "      'review_text': text,\n",
    "      'input_ids': encoding['input_ids'].flatten(),\n",
    "      'attention_mask': encoding['attention_mask'].flatten(),\n",
    "      'stars_review': torch.tensor(star, dtype=torch.long)\n",
    "    }\n"
   ]
  },
  {
   "cell_type": "code",
   "execution_count": 39,
   "id": "e23a213a",
   "metadata": {},
   "outputs": [],
   "source": [
    "def create_data_loader(df):\n",
    "  ds = GenDataset(\n",
    "    text=df.text.to_numpy(),\n",
    "    stars_review=df.stars_review.to_numpy()\n",
    "  )\n",
    "\n",
    "  return DataLoader(\n",
    "    ds,\n",
    "    batch_size=BATCH_SIZE\n",
    "  )"
   ]
  },
  {
   "cell_type": "code",
   "execution_count": 40,
   "id": "c2dd3f99",
   "metadata": {},
   "outputs": [],
   "source": [
    "train_data_loader = create_data_loader(train)\n",
    "test_data_loader = create_data_loader(test)\n",
    "val_data_loader = create_data_loader(val)"
   ]
  },
  {
   "cell_type": "code",
   "execution_count": 41,
   "id": "9f3c6ae2",
   "metadata": {},
   "outputs": [
    {
     "name": "stderr",
     "output_type": "stream",
     "text": [
      "Truncation was not explicitly activated but `max_length` is provided a specific value, please use `truncation=True` to explicitly truncate examples to max length. Defaulting to 'longest_first' truncation strategy. If you encode pairs of sequences (GLUE-style) with the tokenizer you can select this strategy more precisely by providing a specific strategy to `truncation`.\n"
     ]
    }
   ],
   "source": [
    "data = next(iter(train_data_loader))"
   ]
  },
  {
   "cell_type": "markdown",
   "id": "b2e74463",
   "metadata": {
    "tags": []
   },
   "source": [
    "### 2.1.1 - Fine-Grained Sentiment Classifier"
   ]
  },
  {
   "cell_type": "code",
   "execution_count": 42,
   "id": "096fd43e",
   "metadata": {},
   "outputs": [
    {
     "name": "stderr",
     "output_type": "stream",
     "text": [
      "Some weights of the model checkpoint at bert-base-cased were not used when initializing BertModel: ['cls.predictions.decoder.weight', 'cls.predictions.bias', 'cls.predictions.transform.LayerNorm.bias', 'cls.seq_relationship.bias', 'cls.predictions.transform.dense.bias', 'cls.seq_relationship.weight', 'cls.predictions.transform.dense.weight', 'cls.predictions.transform.LayerNorm.weight']\n",
      "- This IS expected if you are initializing BertModel from the checkpoint of a model trained on another task or with another architecture (e.g. initializing a BertForSequenceClassification model from a BertForPreTraining model).\n",
      "- This IS NOT expected if you are initializing BertModel from the checkpoint of a model that you expect to be exactly identical (initializing a BertForSequenceClassification model from a BertForSequenceClassification model).\n"
     ]
    }
   ],
   "source": [
    "bert_model = BertModel.from_pretrained('bert-base-cased',return_dict=False)"
   ]
  },
  {
   "cell_type": "code",
   "execution_count": 43,
   "id": "5e9a3ab2",
   "metadata": {},
   "outputs": [],
   "source": [
    "class FineGrainedSentClassifier(nn.Module):\n",
    "\n",
    "  def __init__(self, n_classes):\n",
    "    super(FineGrainedSentClassifier, self).__init__()\n",
    "    self.bert = bert_model\n",
    "    self.drop = nn.Dropout(p=0.25)\n",
    "    self.out = nn.Linear(self.bert.config.hidden_size, n_classes)\n",
    "  \n",
    "  def forward(self, input_ids, attention_mask):\n",
    "    _, pooled_output = self.bert(\n",
    "      input_ids=input_ids,\n",
    "      attention_mask=attention_mask\n",
    "    )\n",
    "    output = self.drop(pooled_output)\n",
    "    return self.out(output)\n",
    "\n",
    "classes = sorted(train.stars_review.unique())\n",
    "\n",
    "\n",
    "model = FineGrainedSentClassifier(len(classes))"
   ]
  },
  {
   "cell_type": "code",
   "execution_count": 44,
   "id": "1f22b3c5",
   "metadata": {},
   "outputs": [],
   "source": [
    "def train_epoch(model, data_loader, loss_fn, optimizer, n_examples):\n",
    "  model = model.train()\n",
    "\n",
    "  losses = []\n",
    "  correct_predictions = 0\n",
    "  \n",
    "  for d in data_loader:\n",
    "    input_ids = d[\"input_ids\"]\n",
    "    attention_mask = d[\"attention_mask\"]\n",
    "    stars_review = d[\"stars_review\"]\n",
    "\n",
    "    outputs = model(\n",
    "      input_ids=input_ids,\n",
    "      attention_mask=attention_mask\n",
    "    )\n",
    "\n",
    "    _, preds = torch.max(outputs, dim=1)\n",
    "    loss = loss_fn(outputs, stars_review)\n",
    "\n",
    "    correct_predictions += torch.sum(preds == stars_review)\n",
    "    losses.append(loss.item())\n",
    "\n",
    "    loss.backward()\n",
    "    nn.utils.clip_grad_norm_(model.parameters(), max_norm=1.0)\n",
    "    optimizer.step()\n",
    "    optimizer.zero_grad()\n",
    "\n",
    "  return correct_predictions.double() / n_examples, np.mean(losses)"
   ]
  },
  {
   "cell_type": "code",
   "execution_count": 45,
   "id": "0348f15b",
   "metadata": {},
   "outputs": [],
   "source": [
    "def eval_model(model, data_loader, loss_fn, n_examples):\n",
    "  model = model.eval()\n",
    "\n",
    "  losses = []\n",
    "  correct_predictions = 0\n",
    "\n",
    "  with torch.no_grad():\n",
    "    for d in data_loader:\n",
    "      input_ids = d[\"input_ids\"]\n",
    "      attention_mask = d[\"attention_mask\"]\n",
    "      stars_review = d[\"stars_review\"]\n",
    "\n",
    "      outputs = model(\n",
    "        input_ids=input_ids,\n",
    "        attention_mask=attention_mask\n",
    "      )\n",
    "      _, preds = torch.max(outputs, dim=1)\n",
    "\n",
    "      loss = loss_fn(outputs, stars_review)\n",
    "\n",
    "      correct_predictions += torch.sum(preds == stars_review)\n",
    "      losses.append(loss.item())\n",
    "\n",
    "  return correct_predictions.double() / n_examples, np.mean(losses)\n"
   ]
  },
  {
   "cell_type": "code",
   "execution_count": 47,
   "id": "dd73fa78",
   "metadata": {},
   "outputs": [],
   "source": [
    "EPOCHS = 5\n",
    "\n",
    "optimizer = AdamW(model.parameters(), lr=2e-5, correct_bias=False)\n",
    "total_steps = len(train_data_loader) * EPOCHS\n",
    "\n",
    "loss_fn = nn.CrossEntropyLoss()"
   ]
  },
  {
   "cell_type": "code",
   "execution_count": 50,
   "id": "aa752efd",
   "metadata": {},
   "outputs": [
    {
     "name": "stdout",
     "output_type": "stream",
     "text": [
      "Epoch 1/5\n",
      "----------\n"
     ]
    },
    {
     "ename": "KeyboardInterrupt",
     "evalue": "",
     "output_type": "error",
     "traceback": [
      "\u001b[0;31m---------------------------------------------------------------------------\u001b[0m",
      "\u001b[0;31mKeyboardInterrupt\u001b[0m                         Traceback (most recent call last)",
      "File \u001b[0;32m<timed exec>:9\u001b[0m, in \u001b[0;36m<module>\u001b[0;34m\u001b[0m\n",
      "\u001b[1;32m/Users/borisllonaalonso/Documents/DTU/ML Ops/Project/mlops-project/notebooks/YalpReviewsFGSentimentAnalysis.ipynb Cell 65\u001b[0m in \u001b[0;36mtrain_epoch\u001b[0;34m(model, data_loader, loss_fn, optimizer, n_examples)\u001b[0m\n\u001b[1;32m      <a href='vscode-notebook-cell:/Users/borisllonaalonso/Documents/DTU/ML%20Ops/Project/mlops-project/notebooks/YalpReviewsFGSentimentAnalysis.ipynb#Y123sZmlsZQ%3D%3D?line=8'>9</a>\u001b[0m attention_mask \u001b[39m=\u001b[39m d[\u001b[39m\"\u001b[39m\u001b[39mattention_mask\u001b[39m\u001b[39m\"\u001b[39m]\n\u001b[1;32m     <a href='vscode-notebook-cell:/Users/borisllonaalonso/Documents/DTU/ML%20Ops/Project/mlops-project/notebooks/YalpReviewsFGSentimentAnalysis.ipynb#Y123sZmlsZQ%3D%3D?line=9'>10</a>\u001b[0m stars_review \u001b[39m=\u001b[39m d[\u001b[39m\"\u001b[39m\u001b[39mstars_review\u001b[39m\u001b[39m\"\u001b[39m]\n\u001b[0;32m---> <a href='vscode-notebook-cell:/Users/borisllonaalonso/Documents/DTU/ML%20Ops/Project/mlops-project/notebooks/YalpReviewsFGSentimentAnalysis.ipynb#Y123sZmlsZQ%3D%3D?line=11'>12</a>\u001b[0m outputs \u001b[39m=\u001b[39m model(\n\u001b[1;32m     <a href='vscode-notebook-cell:/Users/borisllonaalonso/Documents/DTU/ML%20Ops/Project/mlops-project/notebooks/YalpReviewsFGSentimentAnalysis.ipynb#Y123sZmlsZQ%3D%3D?line=12'>13</a>\u001b[0m   input_ids\u001b[39m=\u001b[39;49minput_ids,\n\u001b[1;32m     <a href='vscode-notebook-cell:/Users/borisllonaalonso/Documents/DTU/ML%20Ops/Project/mlops-project/notebooks/YalpReviewsFGSentimentAnalysis.ipynb#Y123sZmlsZQ%3D%3D?line=13'>14</a>\u001b[0m   attention_mask\u001b[39m=\u001b[39;49mattention_mask\n\u001b[1;32m     <a href='vscode-notebook-cell:/Users/borisllonaalonso/Documents/DTU/ML%20Ops/Project/mlops-project/notebooks/YalpReviewsFGSentimentAnalysis.ipynb#Y123sZmlsZQ%3D%3D?line=14'>15</a>\u001b[0m )\n\u001b[1;32m     <a href='vscode-notebook-cell:/Users/borisllonaalonso/Documents/DTU/ML%20Ops/Project/mlops-project/notebooks/YalpReviewsFGSentimentAnalysis.ipynb#Y123sZmlsZQ%3D%3D?line=16'>17</a>\u001b[0m _, preds \u001b[39m=\u001b[39m torch\u001b[39m.\u001b[39mmax(outputs, dim\u001b[39m=\u001b[39m\u001b[39m1\u001b[39m)\n\u001b[1;32m     <a href='vscode-notebook-cell:/Users/borisllonaalonso/Documents/DTU/ML%20Ops/Project/mlops-project/notebooks/YalpReviewsFGSentimentAnalysis.ipynb#Y123sZmlsZQ%3D%3D?line=17'>18</a>\u001b[0m loss \u001b[39m=\u001b[39m loss_fn(outputs, stars_review)\n",
      "File \u001b[0;32m~/opt/anaconda3/lib/python3.9/site-packages/torch/nn/modules/module.py:1130\u001b[0m, in \u001b[0;36mModule._call_impl\u001b[0;34m(self, *input, **kwargs)\u001b[0m\n\u001b[1;32m   1126\u001b[0m \u001b[39m# If we don't have any hooks, we want to skip the rest of the logic in\u001b[39;00m\n\u001b[1;32m   1127\u001b[0m \u001b[39m# this function, and just call forward.\u001b[39;00m\n\u001b[1;32m   1128\u001b[0m \u001b[39mif\u001b[39;00m \u001b[39mnot\u001b[39;00m (\u001b[39mself\u001b[39m\u001b[39m.\u001b[39m_backward_hooks \u001b[39mor\u001b[39;00m \u001b[39mself\u001b[39m\u001b[39m.\u001b[39m_forward_hooks \u001b[39mor\u001b[39;00m \u001b[39mself\u001b[39m\u001b[39m.\u001b[39m_forward_pre_hooks \u001b[39mor\u001b[39;00m _global_backward_hooks\n\u001b[1;32m   1129\u001b[0m         \u001b[39mor\u001b[39;00m _global_forward_hooks \u001b[39mor\u001b[39;00m _global_forward_pre_hooks):\n\u001b[0;32m-> 1130\u001b[0m     \u001b[39mreturn\u001b[39;00m forward_call(\u001b[39m*\u001b[39;49m\u001b[39minput\u001b[39;49m, \u001b[39m*\u001b[39;49m\u001b[39m*\u001b[39;49mkwargs)\n\u001b[1;32m   1131\u001b[0m \u001b[39m# Do not call functions when jit is used\u001b[39;00m\n\u001b[1;32m   1132\u001b[0m full_backward_hooks, non_full_backward_hooks \u001b[39m=\u001b[39m [], []\n",
      "\u001b[1;32m/Users/borisllonaalonso/Documents/DTU/ML Ops/Project/mlops-project/notebooks/YalpReviewsFGSentimentAnalysis.ipynb Cell 65\u001b[0m in \u001b[0;36mFineGrainedSentClassifier.forward\u001b[0;34m(self, input_ids, attention_mask)\u001b[0m\n\u001b[1;32m      <a href='vscode-notebook-cell:/Users/borisllonaalonso/Documents/DTU/ML%20Ops/Project/mlops-project/notebooks/YalpReviewsFGSentimentAnalysis.ipynb#Y123sZmlsZQ%3D%3D?line=8'>9</a>\u001b[0m \u001b[39mdef\u001b[39;00m \u001b[39mforward\u001b[39m(\u001b[39mself\u001b[39m, input_ids, attention_mask):\n\u001b[0;32m---> <a href='vscode-notebook-cell:/Users/borisllonaalonso/Documents/DTU/ML%20Ops/Project/mlops-project/notebooks/YalpReviewsFGSentimentAnalysis.ipynb#Y123sZmlsZQ%3D%3D?line=9'>10</a>\u001b[0m   _, pooled_output \u001b[39m=\u001b[39m \u001b[39mself\u001b[39;49m\u001b[39m.\u001b[39;49mbert(\n\u001b[1;32m     <a href='vscode-notebook-cell:/Users/borisllonaalonso/Documents/DTU/ML%20Ops/Project/mlops-project/notebooks/YalpReviewsFGSentimentAnalysis.ipynb#Y123sZmlsZQ%3D%3D?line=10'>11</a>\u001b[0m     input_ids\u001b[39m=\u001b[39;49minput_ids,\n\u001b[1;32m     <a href='vscode-notebook-cell:/Users/borisllonaalonso/Documents/DTU/ML%20Ops/Project/mlops-project/notebooks/YalpReviewsFGSentimentAnalysis.ipynb#Y123sZmlsZQ%3D%3D?line=11'>12</a>\u001b[0m     attention_mask\u001b[39m=\u001b[39;49mattention_mask\n\u001b[1;32m     <a href='vscode-notebook-cell:/Users/borisllonaalonso/Documents/DTU/ML%20Ops/Project/mlops-project/notebooks/YalpReviewsFGSentimentAnalysis.ipynb#Y123sZmlsZQ%3D%3D?line=12'>13</a>\u001b[0m   )\n\u001b[1;32m     <a href='vscode-notebook-cell:/Users/borisllonaalonso/Documents/DTU/ML%20Ops/Project/mlops-project/notebooks/YalpReviewsFGSentimentAnalysis.ipynb#Y123sZmlsZQ%3D%3D?line=13'>14</a>\u001b[0m   output \u001b[39m=\u001b[39m \u001b[39mself\u001b[39m\u001b[39m.\u001b[39mdrop(pooled_output)\n\u001b[1;32m     <a href='vscode-notebook-cell:/Users/borisllonaalonso/Documents/DTU/ML%20Ops/Project/mlops-project/notebooks/YalpReviewsFGSentimentAnalysis.ipynb#Y123sZmlsZQ%3D%3D?line=14'>15</a>\u001b[0m   \u001b[39mreturn\u001b[39;00m \u001b[39mself\u001b[39m\u001b[39m.\u001b[39mout(output)\n",
      "File \u001b[0;32m~/opt/anaconda3/lib/python3.9/site-packages/torch/nn/modules/module.py:1130\u001b[0m, in \u001b[0;36mModule._call_impl\u001b[0;34m(self, *input, **kwargs)\u001b[0m\n\u001b[1;32m   1126\u001b[0m \u001b[39m# If we don't have any hooks, we want to skip the rest of the logic in\u001b[39;00m\n\u001b[1;32m   1127\u001b[0m \u001b[39m# this function, and just call forward.\u001b[39;00m\n\u001b[1;32m   1128\u001b[0m \u001b[39mif\u001b[39;00m \u001b[39mnot\u001b[39;00m (\u001b[39mself\u001b[39m\u001b[39m.\u001b[39m_backward_hooks \u001b[39mor\u001b[39;00m \u001b[39mself\u001b[39m\u001b[39m.\u001b[39m_forward_hooks \u001b[39mor\u001b[39;00m \u001b[39mself\u001b[39m\u001b[39m.\u001b[39m_forward_pre_hooks \u001b[39mor\u001b[39;00m _global_backward_hooks\n\u001b[1;32m   1129\u001b[0m         \u001b[39mor\u001b[39;00m _global_forward_hooks \u001b[39mor\u001b[39;00m _global_forward_pre_hooks):\n\u001b[0;32m-> 1130\u001b[0m     \u001b[39mreturn\u001b[39;00m forward_call(\u001b[39m*\u001b[39;49m\u001b[39minput\u001b[39;49m, \u001b[39m*\u001b[39;49m\u001b[39m*\u001b[39;49mkwargs)\n\u001b[1;32m   1131\u001b[0m \u001b[39m# Do not call functions when jit is used\u001b[39;00m\n\u001b[1;32m   1132\u001b[0m full_backward_hooks, non_full_backward_hooks \u001b[39m=\u001b[39m [], []\n",
      "File \u001b[0;32m~/opt/anaconda3/lib/python3.9/site-packages/transformers/models/bert/modeling_bert.py:996\u001b[0m, in \u001b[0;36mBertModel.forward\u001b[0;34m(self, input_ids, attention_mask, token_type_ids, position_ids, head_mask, inputs_embeds, encoder_hidden_states, encoder_attention_mask, past_key_values, use_cache, output_attentions, output_hidden_states, return_dict)\u001b[0m\n\u001b[1;32m    987\u001b[0m head_mask \u001b[39m=\u001b[39m \u001b[39mself\u001b[39m\u001b[39m.\u001b[39mget_head_mask(head_mask, \u001b[39mself\u001b[39m\u001b[39m.\u001b[39mconfig\u001b[39m.\u001b[39mnum_hidden_layers)\n\u001b[1;32m    989\u001b[0m embedding_output \u001b[39m=\u001b[39m \u001b[39mself\u001b[39m\u001b[39m.\u001b[39membeddings(\n\u001b[1;32m    990\u001b[0m     input_ids\u001b[39m=\u001b[39minput_ids,\n\u001b[1;32m    991\u001b[0m     position_ids\u001b[39m=\u001b[39mposition_ids,\n\u001b[0;32m   (...)\u001b[0m\n\u001b[1;32m    994\u001b[0m     past_key_values_length\u001b[39m=\u001b[39mpast_key_values_length,\n\u001b[1;32m    995\u001b[0m )\n\u001b[0;32m--> 996\u001b[0m encoder_outputs \u001b[39m=\u001b[39m \u001b[39mself\u001b[39;49m\u001b[39m.\u001b[39;49mencoder(\n\u001b[1;32m    997\u001b[0m     embedding_output,\n\u001b[1;32m    998\u001b[0m     attention_mask\u001b[39m=\u001b[39;49mextended_attention_mask,\n\u001b[1;32m    999\u001b[0m     head_mask\u001b[39m=\u001b[39;49mhead_mask,\n\u001b[1;32m   1000\u001b[0m     encoder_hidden_states\u001b[39m=\u001b[39;49mencoder_hidden_states,\n\u001b[1;32m   1001\u001b[0m     encoder_attention_mask\u001b[39m=\u001b[39;49mencoder_extended_attention_mask,\n\u001b[1;32m   1002\u001b[0m     past_key_values\u001b[39m=\u001b[39;49mpast_key_values,\n\u001b[1;32m   1003\u001b[0m     use_cache\u001b[39m=\u001b[39;49muse_cache,\n\u001b[1;32m   1004\u001b[0m     output_attentions\u001b[39m=\u001b[39;49moutput_attentions,\n\u001b[1;32m   1005\u001b[0m     output_hidden_states\u001b[39m=\u001b[39;49moutput_hidden_states,\n\u001b[1;32m   1006\u001b[0m     return_dict\u001b[39m=\u001b[39;49mreturn_dict,\n\u001b[1;32m   1007\u001b[0m )\n\u001b[1;32m   1008\u001b[0m sequence_output \u001b[39m=\u001b[39m encoder_outputs[\u001b[39m0\u001b[39m]\n\u001b[1;32m   1009\u001b[0m pooled_output \u001b[39m=\u001b[39m \u001b[39mself\u001b[39m\u001b[39m.\u001b[39mpooler(sequence_output) \u001b[39mif\u001b[39;00m \u001b[39mself\u001b[39m\u001b[39m.\u001b[39mpooler \u001b[39mis\u001b[39;00m \u001b[39mnot\u001b[39;00m \u001b[39mNone\u001b[39;00m \u001b[39melse\u001b[39;00m \u001b[39mNone\u001b[39;00m\n",
      "File \u001b[0;32m~/opt/anaconda3/lib/python3.9/site-packages/torch/nn/modules/module.py:1130\u001b[0m, in \u001b[0;36mModule._call_impl\u001b[0;34m(self, *input, **kwargs)\u001b[0m\n\u001b[1;32m   1126\u001b[0m \u001b[39m# If we don't have any hooks, we want to skip the rest of the logic in\u001b[39;00m\n\u001b[1;32m   1127\u001b[0m \u001b[39m# this function, and just call forward.\u001b[39;00m\n\u001b[1;32m   1128\u001b[0m \u001b[39mif\u001b[39;00m \u001b[39mnot\u001b[39;00m (\u001b[39mself\u001b[39m\u001b[39m.\u001b[39m_backward_hooks \u001b[39mor\u001b[39;00m \u001b[39mself\u001b[39m\u001b[39m.\u001b[39m_forward_hooks \u001b[39mor\u001b[39;00m \u001b[39mself\u001b[39m\u001b[39m.\u001b[39m_forward_pre_hooks \u001b[39mor\u001b[39;00m _global_backward_hooks\n\u001b[1;32m   1129\u001b[0m         \u001b[39mor\u001b[39;00m _global_forward_hooks \u001b[39mor\u001b[39;00m _global_forward_pre_hooks):\n\u001b[0;32m-> 1130\u001b[0m     \u001b[39mreturn\u001b[39;00m forward_call(\u001b[39m*\u001b[39;49m\u001b[39minput\u001b[39;49m, \u001b[39m*\u001b[39;49m\u001b[39m*\u001b[39;49mkwargs)\n\u001b[1;32m   1131\u001b[0m \u001b[39m# Do not call functions when jit is used\u001b[39;00m\n\u001b[1;32m   1132\u001b[0m full_backward_hooks, non_full_backward_hooks \u001b[39m=\u001b[39m [], []\n",
      "File \u001b[0;32m~/opt/anaconda3/lib/python3.9/site-packages/transformers/models/bert/modeling_bert.py:585\u001b[0m, in \u001b[0;36mBertEncoder.forward\u001b[0;34m(self, hidden_states, attention_mask, head_mask, encoder_hidden_states, encoder_attention_mask, past_key_values, use_cache, output_attentions, output_hidden_states, return_dict)\u001b[0m\n\u001b[1;32m    576\u001b[0m     layer_outputs \u001b[39m=\u001b[39m torch\u001b[39m.\u001b[39mutils\u001b[39m.\u001b[39mcheckpoint\u001b[39m.\u001b[39mcheckpoint(\n\u001b[1;32m    577\u001b[0m         create_custom_forward(layer_module),\n\u001b[1;32m    578\u001b[0m         hidden_states,\n\u001b[0;32m   (...)\u001b[0m\n\u001b[1;32m    582\u001b[0m         encoder_attention_mask,\n\u001b[1;32m    583\u001b[0m     )\n\u001b[1;32m    584\u001b[0m \u001b[39melse\u001b[39;00m:\n\u001b[0;32m--> 585\u001b[0m     layer_outputs \u001b[39m=\u001b[39m layer_module(\n\u001b[1;32m    586\u001b[0m         hidden_states,\n\u001b[1;32m    587\u001b[0m         attention_mask,\n\u001b[1;32m    588\u001b[0m         layer_head_mask,\n\u001b[1;32m    589\u001b[0m         encoder_hidden_states,\n\u001b[1;32m    590\u001b[0m         encoder_attention_mask,\n\u001b[1;32m    591\u001b[0m         past_key_value,\n\u001b[1;32m    592\u001b[0m         output_attentions,\n\u001b[1;32m    593\u001b[0m     )\n\u001b[1;32m    595\u001b[0m hidden_states \u001b[39m=\u001b[39m layer_outputs[\u001b[39m0\u001b[39m]\n\u001b[1;32m    596\u001b[0m \u001b[39mif\u001b[39;00m use_cache:\n",
      "File \u001b[0;32m~/opt/anaconda3/lib/python3.9/site-packages/torch/nn/modules/module.py:1130\u001b[0m, in \u001b[0;36mModule._call_impl\u001b[0;34m(self, *input, **kwargs)\u001b[0m\n\u001b[1;32m   1126\u001b[0m \u001b[39m# If we don't have any hooks, we want to skip the rest of the logic in\u001b[39;00m\n\u001b[1;32m   1127\u001b[0m \u001b[39m# this function, and just call forward.\u001b[39;00m\n\u001b[1;32m   1128\u001b[0m \u001b[39mif\u001b[39;00m \u001b[39mnot\u001b[39;00m (\u001b[39mself\u001b[39m\u001b[39m.\u001b[39m_backward_hooks \u001b[39mor\u001b[39;00m \u001b[39mself\u001b[39m\u001b[39m.\u001b[39m_forward_hooks \u001b[39mor\u001b[39;00m \u001b[39mself\u001b[39m\u001b[39m.\u001b[39m_forward_pre_hooks \u001b[39mor\u001b[39;00m _global_backward_hooks\n\u001b[1;32m   1129\u001b[0m         \u001b[39mor\u001b[39;00m _global_forward_hooks \u001b[39mor\u001b[39;00m _global_forward_pre_hooks):\n\u001b[0;32m-> 1130\u001b[0m     \u001b[39mreturn\u001b[39;00m forward_call(\u001b[39m*\u001b[39;49m\u001b[39minput\u001b[39;49m, \u001b[39m*\u001b[39;49m\u001b[39m*\u001b[39;49mkwargs)\n\u001b[1;32m   1131\u001b[0m \u001b[39m# Do not call functions when jit is used\u001b[39;00m\n\u001b[1;32m   1132\u001b[0m full_backward_hooks, non_full_backward_hooks \u001b[39m=\u001b[39m [], []\n",
      "File \u001b[0;32m~/opt/anaconda3/lib/python3.9/site-packages/transformers/models/bert/modeling_bert.py:513\u001b[0m, in \u001b[0;36mBertLayer.forward\u001b[0;34m(self, hidden_states, attention_mask, head_mask, encoder_hidden_states, encoder_attention_mask, past_key_value, output_attentions)\u001b[0m\n\u001b[1;32m    510\u001b[0m     cross_attn_present_key_value \u001b[39m=\u001b[39m cross_attention_outputs[\u001b[39m-\u001b[39m\u001b[39m1\u001b[39m]\n\u001b[1;32m    511\u001b[0m     present_key_value \u001b[39m=\u001b[39m present_key_value \u001b[39m+\u001b[39m cross_attn_present_key_value\n\u001b[0;32m--> 513\u001b[0m layer_output \u001b[39m=\u001b[39m apply_chunking_to_forward(\n\u001b[1;32m    514\u001b[0m     \u001b[39mself\u001b[39;49m\u001b[39m.\u001b[39;49mfeed_forward_chunk, \u001b[39mself\u001b[39;49m\u001b[39m.\u001b[39;49mchunk_size_feed_forward, \u001b[39mself\u001b[39;49m\u001b[39m.\u001b[39;49mseq_len_dim, attention_output\n\u001b[1;32m    515\u001b[0m )\n\u001b[1;32m    516\u001b[0m outputs \u001b[39m=\u001b[39m (layer_output,) \u001b[39m+\u001b[39m outputs\n\u001b[1;32m    518\u001b[0m \u001b[39m# if decoder, return the attn key/values as the last output\u001b[39;00m\n",
      "File \u001b[0;32m~/opt/anaconda3/lib/python3.9/site-packages/transformers/modeling_utils.py:2472\u001b[0m, in \u001b[0;36mapply_chunking_to_forward\u001b[0;34m(forward_fn, chunk_size, chunk_dim, *input_tensors)\u001b[0m\n\u001b[1;32m   2469\u001b[0m     \u001b[39m# concatenate output at same dimension\u001b[39;00m\n\u001b[1;32m   2470\u001b[0m     \u001b[39mreturn\u001b[39;00m torch\u001b[39m.\u001b[39mcat(output_chunks, dim\u001b[39m=\u001b[39mchunk_dim)\n\u001b[0;32m-> 2472\u001b[0m \u001b[39mreturn\u001b[39;00m forward_fn(\u001b[39m*\u001b[39;49minput_tensors)\n",
      "File \u001b[0;32m~/opt/anaconda3/lib/python3.9/site-packages/transformers/models/bert/modeling_bert.py:526\u001b[0m, in \u001b[0;36mBertLayer.feed_forward_chunk\u001b[0;34m(self, attention_output)\u001b[0m\n\u001b[1;32m    524\u001b[0m \u001b[39mdef\u001b[39;00m \u001b[39mfeed_forward_chunk\u001b[39m(\u001b[39mself\u001b[39m, attention_output):\n\u001b[1;32m    525\u001b[0m     intermediate_output \u001b[39m=\u001b[39m \u001b[39mself\u001b[39m\u001b[39m.\u001b[39mintermediate(attention_output)\n\u001b[0;32m--> 526\u001b[0m     layer_output \u001b[39m=\u001b[39m \u001b[39mself\u001b[39;49m\u001b[39m.\u001b[39;49moutput(intermediate_output, attention_output)\n\u001b[1;32m    527\u001b[0m     \u001b[39mreturn\u001b[39;00m layer_output\n",
      "File \u001b[0;32m~/opt/anaconda3/lib/python3.9/site-packages/torch/nn/modules/module.py:1130\u001b[0m, in \u001b[0;36mModule._call_impl\u001b[0;34m(self, *input, **kwargs)\u001b[0m\n\u001b[1;32m   1126\u001b[0m \u001b[39m# If we don't have any hooks, we want to skip the rest of the logic in\u001b[39;00m\n\u001b[1;32m   1127\u001b[0m \u001b[39m# this function, and just call forward.\u001b[39;00m\n\u001b[1;32m   1128\u001b[0m \u001b[39mif\u001b[39;00m \u001b[39mnot\u001b[39;00m (\u001b[39mself\u001b[39m\u001b[39m.\u001b[39m_backward_hooks \u001b[39mor\u001b[39;00m \u001b[39mself\u001b[39m\u001b[39m.\u001b[39m_forward_hooks \u001b[39mor\u001b[39;00m \u001b[39mself\u001b[39m\u001b[39m.\u001b[39m_forward_pre_hooks \u001b[39mor\u001b[39;00m _global_backward_hooks\n\u001b[1;32m   1129\u001b[0m         \u001b[39mor\u001b[39;00m _global_forward_hooks \u001b[39mor\u001b[39;00m _global_forward_pre_hooks):\n\u001b[0;32m-> 1130\u001b[0m     \u001b[39mreturn\u001b[39;00m forward_call(\u001b[39m*\u001b[39;49m\u001b[39minput\u001b[39;49m, \u001b[39m*\u001b[39;49m\u001b[39m*\u001b[39;49mkwargs)\n\u001b[1;32m   1131\u001b[0m \u001b[39m# Do not call functions when jit is used\u001b[39;00m\n\u001b[1;32m   1132\u001b[0m full_backward_hooks, non_full_backward_hooks \u001b[39m=\u001b[39m [], []\n",
      "File \u001b[0;32m~/opt/anaconda3/lib/python3.9/site-packages/transformers/models/bert/modeling_bert.py:439\u001b[0m, in \u001b[0;36mBertOutput.forward\u001b[0;34m(self, hidden_states, input_tensor)\u001b[0m\n\u001b[1;32m    438\u001b[0m \u001b[39mdef\u001b[39;00m \u001b[39mforward\u001b[39m(\u001b[39mself\u001b[39m, hidden_states, input_tensor):\n\u001b[0;32m--> 439\u001b[0m     hidden_states \u001b[39m=\u001b[39m \u001b[39mself\u001b[39;49m\u001b[39m.\u001b[39;49mdense(hidden_states)\n\u001b[1;32m    440\u001b[0m     hidden_states \u001b[39m=\u001b[39m \u001b[39mself\u001b[39m\u001b[39m.\u001b[39mdropout(hidden_states)\n\u001b[1;32m    441\u001b[0m     hidden_states \u001b[39m=\u001b[39m \u001b[39mself\u001b[39m\u001b[39m.\u001b[39mLayerNorm(hidden_states \u001b[39m+\u001b[39m input_tensor)\n",
      "File \u001b[0;32m~/opt/anaconda3/lib/python3.9/site-packages/torch/nn/modules/module.py:1130\u001b[0m, in \u001b[0;36mModule._call_impl\u001b[0;34m(self, *input, **kwargs)\u001b[0m\n\u001b[1;32m   1126\u001b[0m \u001b[39m# If we don't have any hooks, we want to skip the rest of the logic in\u001b[39;00m\n\u001b[1;32m   1127\u001b[0m \u001b[39m# this function, and just call forward.\u001b[39;00m\n\u001b[1;32m   1128\u001b[0m \u001b[39mif\u001b[39;00m \u001b[39mnot\u001b[39;00m (\u001b[39mself\u001b[39m\u001b[39m.\u001b[39m_backward_hooks \u001b[39mor\u001b[39;00m \u001b[39mself\u001b[39m\u001b[39m.\u001b[39m_forward_hooks \u001b[39mor\u001b[39;00m \u001b[39mself\u001b[39m\u001b[39m.\u001b[39m_forward_pre_hooks \u001b[39mor\u001b[39;00m _global_backward_hooks\n\u001b[1;32m   1129\u001b[0m         \u001b[39mor\u001b[39;00m _global_forward_hooks \u001b[39mor\u001b[39;00m _global_forward_pre_hooks):\n\u001b[0;32m-> 1130\u001b[0m     \u001b[39mreturn\u001b[39;00m forward_call(\u001b[39m*\u001b[39;49m\u001b[39minput\u001b[39;49m, \u001b[39m*\u001b[39;49m\u001b[39m*\u001b[39;49mkwargs)\n\u001b[1;32m   1131\u001b[0m \u001b[39m# Do not call functions when jit is used\u001b[39;00m\n\u001b[1;32m   1132\u001b[0m full_backward_hooks, non_full_backward_hooks \u001b[39m=\u001b[39m [], []\n",
      "File \u001b[0;32m~/opt/anaconda3/lib/python3.9/site-packages/torch/nn/modules/linear.py:114\u001b[0m, in \u001b[0;36mLinear.forward\u001b[0;34m(self, input)\u001b[0m\n\u001b[1;32m    113\u001b[0m \u001b[39mdef\u001b[39;00m \u001b[39mforward\u001b[39m(\u001b[39mself\u001b[39m, \u001b[39minput\u001b[39m: Tensor) \u001b[39m-\u001b[39m\u001b[39m>\u001b[39m Tensor:\n\u001b[0;32m--> 114\u001b[0m     \u001b[39mreturn\u001b[39;00m F\u001b[39m.\u001b[39;49mlinear(\u001b[39minput\u001b[39;49m, \u001b[39mself\u001b[39;49m\u001b[39m.\u001b[39;49mweight, \u001b[39mself\u001b[39;49m\u001b[39m.\u001b[39;49mbias)\n",
      "\u001b[0;31mKeyboardInterrupt\u001b[0m: "
     ]
    }
   ],
   "source": [
    "%%time\n",
    "\n",
    "history = defaultdict(list)\n",
    "best_accuracy = 0\n",
    "\n",
    "for epoch in range(EPOCHS):\n",
    "\n",
    "  print(f'Epoch {epoch + 1}/{EPOCHS}')\n",
    "  print('-' * 10)\n",
    "\n",
    "  train_acc, train_loss = train_epoch(model,train_data_loader,loss_fn, optimizer,len(train))\n",
    "\n",
    "  print(f'Train loss {train_loss} accuracy {train_acc}')\n",
    "\n",
    "  val_acc, val_loss = eval_model(model,val_data_loader,loss_fn, len(val))\n",
    "\n",
    "  print(f'Val   loss {val_loss} accuracy {val_acc}')\n",
    "  print()\n",
    "\n",
    "  history['train_acc'].append(train_acc)\n",
    "  history['train_loss'].append(train_loss)\n",
    "  history['val_acc'].append(val_acc)\n",
    "  history['val_loss'].append(val_loss)\n",
    "\n",
    "  if val_acc > best_accuracy:\n",
    "    torch.save(model.state_dict(), 'best_model_state.bin')\n",
    "    best_accuracy = val_acc"
   ]
  },
  {
   "cell_type": "markdown",
   "id": "6d22c9f2",
   "metadata": {
    "tags": []
   },
   "source": [
    "### Evaluation matrix"
   ]
  },
  {
   "cell_type": "code",
   "execution_count": 51,
   "id": "1d98dc70",
   "metadata": {},
   "outputs": [
    {
     "ename": "NameError",
     "evalue": "name 'confusion_matrix' is not defined",
     "output_type": "error",
     "traceback": [
      "\u001b[0;31m---------------------------------------------------------------------------\u001b[0m",
      "\u001b[0;31mNameError\u001b[0m                                 Traceback (most recent call last)",
      "\u001b[1;32m/Users/borisllonaalonso/Documents/DTU/ML Ops/Project/mlops-project/notebooks/YalpReviewsFGSentimentAnalysis.ipynb Cell 67\u001b[0m in \u001b[0;36m<cell line: 1>\u001b[0;34m()\u001b[0m\n\u001b[0;32m----> <a href='vscode-notebook-cell:/Users/borisllonaalonso/Documents/DTU/ML%20Ops/Project/mlops-project/notebooks/YalpReviewsFGSentimentAnalysis.ipynb#Y125sZmlsZQ%3D%3D?line=0'>1</a>\u001b[0m cf_matrix \u001b[39m=\u001b[39m confusion_matrix(df[\u001b[39m'\u001b[39m\u001b[39mvader_score\u001b[39m\u001b[39m'\u001b[39m],df[\u001b[39m'\u001b[39m\u001b[39mstars_review\u001b[39m\u001b[39m'\u001b[39m])\n\u001b[1;32m      <a href='vscode-notebook-cell:/Users/borisllonaalonso/Documents/DTU/ML%20Ops/Project/mlops-project/notebooks/YalpReviewsFGSentimentAnalysis.ipynb#Y125sZmlsZQ%3D%3D?line=1'>2</a>\u001b[0m cf_matrix \u001b[39m=\u001b[39m pd\u001b[39m.\u001b[39mDataFrame(cf_matrix,columns \u001b[39m=\u001b[39m [\u001b[39m0\u001b[39m,\u001b[39m1\u001b[39m,\u001b[39m2\u001b[39m,\u001b[39m3\u001b[39m,\u001b[39m4\u001b[39m],index \u001b[39m=\u001b[39m [\u001b[39m0\u001b[39m,\u001b[39m1\u001b[39m,\u001b[39m2\u001b[39m,\u001b[39m3\u001b[39m,\u001b[39m4\u001b[39m])\n\u001b[1;32m      <a href='vscode-notebook-cell:/Users/borisllonaalonso/Documents/DTU/ML%20Ops/Project/mlops-project/notebooks/YalpReviewsFGSentimentAnalysis.ipynb#Y125sZmlsZQ%3D%3D?line=3'>4</a>\u001b[0m \u001b[39m# Get model accuracy and f1 score\u001b[39;00m\n",
      "\u001b[0;31mNameError\u001b[0m: name 'confusion_matrix' is not defined"
     ]
    }
   ],
   "source": [
    "cf_matrix = confusion_matrix(df['vader_score'],df['stars_review'])\n",
    "cf_matrix = pd.DataFrame(cf_matrix,columns = [0,1,2,3,4],index = [0,1,2,3,4])\n",
    "\n",
    "# Get model accuracy and f1 score\n",
    "print_accuracy(df, 'vader_score')\n",
    "\n",
    "sn.heatmap(cf_matrix, annot=True,cmap='Blues')\n",
    "plt.title(\"Confusion Matrix\")\n",
    "plt.xlabel(\"Real star rating\")\n",
    "plt.ylabel(\"Predicted star rating\")\n",
    "plt.show()"
   ]
  }
 ],
 "metadata": {
  "kernelspec": {
   "display_name": "Python 3.9.7 ('base')",
   "language": "python",
   "name": "python3"
  },
  "language_info": {
   "codemirror_mode": {
    "name": "ipython",
    "version": 3
   },
   "file_extension": ".py",
   "mimetype": "text/x-python",
   "name": "python",
   "nbconvert_exporter": "python",
   "pygments_lexer": "ipython3",
   "version": "3.9.7"
  },
  "vscode": {
   "interpreter": {
    "hash": "8d7a6c68bc2853b4951eefc595dc047a9cd4b229a6e99cc0855405ddac31896c"
   }
  }
 },
 "nbformat": 4,
 "nbformat_minor": 5
}
